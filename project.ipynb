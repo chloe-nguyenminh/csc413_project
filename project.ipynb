{
 "cells": [
  {
   "cell_type": "code",
   "execution_count": 3,
   "metadata": {
    "colab": {
     "base_uri": "https://localhost:8080/"
    },
    "id": "gSC3CFjRGev_",
    "outputId": "10802d72-4a8e-4ac8-da67-98a029c24025"
   },
   "outputs": [
    {
     "name": "stdout",
     "output_type": "stream",
     "text": [
      "Collecting numpy\n",
      "  Using cached numpy-2.1.3-cp310-cp310-manylinux_2_17_x86_64.manylinux2014_x86_64.whl (16.3 MB)\n",
      "Installing collected packages: numpy\n",
      "Successfully installed numpy-2.1.3\n",
      "Collecting pandas\n",
      "  Using cached pandas-2.2.3-cp310-cp310-manylinux_2_17_x86_64.manylinux2014_x86_64.whl (13.1 MB)\n",
      "Requirement already satisfied: numpy>=1.22.4 in ./.venv/lib/python3.10/site-packages (from pandas) (2.1.3)\n",
      "Collecting python-dateutil>=2.8.2\n",
      "  Using cached python_dateutil-2.9.0.post0-py2.py3-none-any.whl (229 kB)\n",
      "Collecting tzdata>=2022.7\n",
      "  Using cached tzdata-2024.2-py2.py3-none-any.whl (346 kB)\n",
      "Collecting pytz>=2020.1\n",
      "  Using cached pytz-2024.2-py2.py3-none-any.whl (508 kB)\n",
      "Collecting six>=1.5\n",
      "  Using cached six-1.16.0-py2.py3-none-any.whl (11 kB)\n",
      "Installing collected packages: pytz, tzdata, six, python-dateutil, pandas\n",
      "Successfully installed pandas-2.2.3 python-dateutil-2.9.0.post0 pytz-2024.2 six-1.16.0 tzdata-2024.2\n",
      "Collecting matplotlib\n",
      "  Using cached matplotlib-3.9.2-cp310-cp310-manylinux_2_17_x86_64.manylinux2014_x86_64.whl (8.3 MB)\n",
      "Requirement already satisfied: numpy>=1.23 in ./.venv/lib/python3.10/site-packages (from matplotlib) (2.1.3)\n",
      "Collecting fonttools>=4.22.0\n",
      "  Using cached fonttools-4.55.0-cp310-cp310-manylinux_2_17_x86_64.manylinux2014_x86_64.whl (4.6 MB)\n",
      "Collecting packaging>=20.0\n",
      "  Using cached packaging-24.2-py3-none-any.whl (65 kB)\n",
      "Collecting kiwisolver>=1.3.1\n",
      "  Using cached kiwisolver-1.4.7-cp310-cp310-manylinux_2_12_x86_64.manylinux2010_x86_64.whl (1.6 MB)\n",
      "Requirement already satisfied: python-dateutil>=2.7 in ./.venv/lib/python3.10/site-packages (from matplotlib) (2.9.0.post0)\n",
      "Collecting pillow>=8\n",
      "  Using cached pillow-11.0.0-cp310-cp310-manylinux_2_28_x86_64.whl (4.4 MB)\n",
      "Collecting pyparsing>=2.3.1\n",
      "  Using cached pyparsing-3.2.0-py3-none-any.whl (106 kB)\n",
      "Collecting contourpy>=1.0.1\n",
      "  Using cached contourpy-1.3.1-cp310-cp310-manylinux_2_17_x86_64.manylinux2014_x86_64.whl (324 kB)\n",
      "Collecting cycler>=0.10\n",
      "  Using cached cycler-0.12.1-py3-none-any.whl (8.3 kB)\n",
      "Requirement already satisfied: six>=1.5 in ./.venv/lib/python3.10/site-packages (from python-dateutil>=2.7->matplotlib) (1.16.0)\n",
      "Installing collected packages: pyparsing, pillow, packaging, kiwisolver, fonttools, cycler, contourpy, matplotlib\n",
      "Successfully installed contourpy-1.3.1 cycler-0.12.1 fonttools-4.55.0 kiwisolver-1.4.7 matplotlib-3.9.2 packaging-24.2 pillow-11.0.0 pyparsing-3.2.0\n",
      "Collecting datasets\n",
      "  Using cached datasets-3.1.0-py3-none-any.whl (480 kB)\n",
      "Collecting pyarrow>=15.0.0\n",
      "  Using cached pyarrow-18.1.0-cp310-cp310-manylinux_2_28_x86_64.whl (40.1 MB)\n",
      "Requirement already satisfied: packaging in ./.venv/lib/python3.10/site-packages (from datasets) (24.2)\n",
      "Requirement already satisfied: numpy>=1.17 in ./.venv/lib/python3.10/site-packages (from datasets) (2.1.3)\n",
      "Collecting filelock\n",
      "  Using cached filelock-3.16.1-py3-none-any.whl (16 kB)\n",
      "Collecting aiohttp\n",
      "  Using cached aiohttp-3.11.8-cp310-cp310-manylinux_2_17_x86_64.manylinux2014_x86_64.whl (1.6 MB)\n",
      "Collecting multiprocess<0.70.17\n",
      "  Using cached multiprocess-0.70.16-py310-none-any.whl (134 kB)\n",
      "Collecting fsspec[http]<=2024.9.0,>=2023.1.0\n",
      "  Using cached fsspec-2024.9.0-py3-none-any.whl (179 kB)\n",
      "Collecting pyyaml>=5.1\n",
      "  Using cached PyYAML-6.0.2-cp310-cp310-manylinux_2_17_x86_64.manylinux2014_x86_64.whl (751 kB)\n",
      "Collecting requests>=2.32.2\n",
      "  Using cached requests-2.32.3-py3-none-any.whl (64 kB)\n",
      "Collecting tqdm>=4.66.3\n",
      "  Using cached tqdm-4.67.1-py3-none-any.whl (78 kB)\n",
      "Collecting xxhash\n",
      "  Using cached xxhash-3.5.0-cp310-cp310-manylinux_2_17_x86_64.manylinux2014_x86_64.whl (194 kB)\n",
      "Requirement already satisfied: pandas in ./.venv/lib/python3.10/site-packages (from datasets) (2.2.3)\n",
      "Collecting dill<0.3.9,>=0.3.0\n",
      "  Using cached dill-0.3.8-py3-none-any.whl (116 kB)\n",
      "Collecting huggingface-hub>=0.23.0\n",
      "  Using cached huggingface_hub-0.26.3-py3-none-any.whl (447 kB)\n",
      "Collecting frozenlist>=1.1.1\n",
      "  Using cached frozenlist-1.5.0-cp310-cp310-manylinux_2_5_x86_64.manylinux1_x86_64.manylinux_2_17_x86_64.manylinux2014_x86_64.whl (241 kB)\n",
      "Collecting async-timeout<6.0,>=4.0\n",
      "  Using cached async_timeout-5.0.1-py3-none-any.whl (6.2 kB)\n",
      "Collecting aiohappyeyeballs>=2.3.0\n",
      "  Using cached aiohappyeyeballs-2.4.3-py3-none-any.whl (14 kB)\n",
      "Collecting multidict<7.0,>=4.5\n",
      "  Using cached multidict-6.1.0-cp310-cp310-manylinux_2_17_x86_64.manylinux2014_x86_64.whl (124 kB)\n",
      "Collecting yarl<2.0,>=1.17.0\n",
      "  Using cached yarl-1.18.0-cp310-cp310-manylinux_2_17_x86_64.manylinux2014_x86_64.whl (319 kB)\n",
      "Collecting aiosignal>=1.1.2\n",
      "  Using cached aiosignal-1.3.1-py3-none-any.whl (7.6 kB)\n",
      "Collecting attrs>=17.3.0\n",
      "  Using cached attrs-24.2.0-py3-none-any.whl (63 kB)\n",
      "Collecting propcache>=0.2.0\n",
      "  Using cached propcache-0.2.0-cp310-cp310-manylinux_2_17_x86_64.manylinux2014_x86_64.whl (208 kB)\n",
      "Collecting typing-extensions>=3.7.4.3\n",
      "  Using cached typing_extensions-4.12.2-py3-none-any.whl (37 kB)\n",
      "Collecting idna<4,>=2.5\n",
      "  Using cached idna-3.10-py3-none-any.whl (70 kB)\n",
      "Collecting charset-normalizer<4,>=2\n",
      "  Using cached charset_normalizer-3.4.0-cp310-cp310-manylinux_2_17_x86_64.manylinux2014_x86_64.whl (144 kB)\n",
      "Collecting urllib3<3,>=1.21.1\n",
      "  Using cached urllib3-2.2.3-py3-none-any.whl (126 kB)\n",
      "Collecting certifi>=2017.4.17\n",
      "  Using cached certifi-2024.8.30-py3-none-any.whl (167 kB)\n",
      "Requirement already satisfied: tzdata>=2022.7 in ./.venv/lib/python3.10/site-packages (from pandas->datasets) (2024.2)\n",
      "Requirement already satisfied: pytz>=2020.1 in ./.venv/lib/python3.10/site-packages (from pandas->datasets) (2024.2)\n",
      "Requirement already satisfied: python-dateutil>=2.8.2 in ./.venv/lib/python3.10/site-packages (from pandas->datasets) (2.9.0.post0)\n",
      "Requirement already satisfied: six>=1.5 in ./.venv/lib/python3.10/site-packages (from python-dateutil>=2.8.2->pandas->datasets) (1.16.0)\n",
      "Installing collected packages: xxhash, urllib3, typing-extensions, tqdm, pyyaml, pyarrow, propcache, idna, fsspec, frozenlist, filelock, dill, charset-normalizer, certifi, attrs, async-timeout, aiohappyeyeballs, requests, multiprocess, multidict, aiosignal, yarl, huggingface-hub, aiohttp, datasets\n",
      "Successfully installed aiohappyeyeballs-2.4.3 aiohttp-3.11.8 aiosignal-1.3.1 async-timeout-5.0.1 attrs-24.2.0 certifi-2024.8.30 charset-normalizer-3.4.0 datasets-3.1.0 dill-0.3.8 filelock-3.16.1 frozenlist-1.5.0 fsspec-2024.9.0 huggingface-hub-0.26.3 idna-3.10 multidict-6.1.0 multiprocess-0.70.16 propcache-0.2.0 pyarrow-18.1.0 pyyaml-6.0.2 requests-2.32.3 tqdm-4.67.1 typing-extensions-4.12.2 urllib3-2.2.3 xxhash-3.5.0 yarl-1.18.0\n",
      "Collecting kagglehub\n",
      "  Using cached kagglehub-0.3.4-py3-none-any.whl (43 kB)\n",
      "Requirement already satisfied: tqdm in ./.venv/lib/python3.10/site-packages (from kagglehub) (4.67.1)\n",
      "Requirement already satisfied: packaging in ./.venv/lib/python3.10/site-packages (from kagglehub) (24.2)\n",
      "Requirement already satisfied: requests in ./.venv/lib/python3.10/site-packages (from kagglehub) (2.32.3)\n",
      "Requirement already satisfied: idna<4,>=2.5 in ./.venv/lib/python3.10/site-packages (from requests->kagglehub) (3.10)\n",
      "Requirement already satisfied: urllib3<3,>=1.21.1 in ./.venv/lib/python3.10/site-packages (from requests->kagglehub) (2.2.3)\n",
      "Requirement already satisfied: certifi>=2017.4.17 in ./.venv/lib/python3.10/site-packages (from requests->kagglehub) (2024.8.30)\n",
      "Requirement already satisfied: charset-normalizer<4,>=2 in ./.venv/lib/python3.10/site-packages (from requests->kagglehub) (3.4.0)\n",
      "Installing collected packages: kagglehub\n",
      "Successfully installed kagglehub-0.3.4\n"
     ]
    }
   ],
   "source": [
    "!pip install numpy\n",
    "!pip install pandas\n",
    "!pip install matplotlib\n",
    "!pip install datasets\n",
    "!pip install kagglehub"
   ]
  },
  {
   "cell_type": "code",
   "execution_count": null,
   "metadata": {
    "id": "A1Vd-0VQGewA"
   },
   "outputs": [],
   "source": [
    "import numpy as np\n",
    "import pandas as pd\n",
    "import json\n",
    "import matplotlib.pyplot as plt"
   ]
  },
  {
   "cell_type": "code",
   "execution_count": null,
   "metadata": {
    "id": "I21s2a3sGewB"
   },
   "outputs": [],
   "source": [
    "from datasets import load_dataset\n",
    "\n",
    "cot_ds = load_dataset(\"AI-MO/NuminaMath-CoT\")"
   ]
  },
  {
   "cell_type": "code",
   "execution_count": 39,
   "metadata": {
    "colab": {
     "base_uri": "https://localhost:8080/"
    },
    "id": "EFz5cf-iEvmu",
    "outputId": "46ed7d53-314d-4558-86f9-6a055b746f28"
   },
   "outputs": [
    {
     "name": "stdout",
     "output_type": "stream",
     "text": [
      "DatasetDict({\n",
      "    train: Dataset({\n",
      "        features: ['source', 'problem', 'solution'],\n",
      "        num_rows: 859494\n",
      "    })\n",
      "    test: Dataset({\n",
      "        features: ['source', 'problem', 'solution'],\n",
      "        num_rows: 100\n",
      "    })\n",
      "})\n"
     ]
    }
   ],
   "source": [
    "# Preprocess COT dataset\n",
    "\n",
    "cot_ds['train'] = cot_ds['train'].remove_columns(['messages'])\n",
    "cot_ds['test'] = cot_ds['test'].remove_columns(['messages'])\n",
    "print(cot_ds)"
   ]
  },
  {
   "cell_type": "code",
   "execution_count": null,
   "metadata": {
    "colab": {
     "base_uri": "https://localhost:8080/",
     "height": 331,
     "referenced_widgets": [
      "f15221bb43dc4bbea72c9af47602363b",
      "dd30ef8c97d343e398973b971066d906",
      "6c10edb9a7e74ec78d0394b12782f7cb",
      "84d1b7ade8ce4457849b283034ca32e6",
      "9ddc4d504e2e47519539d32967aab477",
      "97f1b7f97e42449bb058d69be73881c8",
      "f20d9ae8550b460f97fef4a9d6d4ecbf",
      "6a16af5df16842bd94cd09dda298b786",
      "04fda5b1fb7145759a490db27f46f6e2",
      "1ec4ebf649494a1ea8ae8586a0eafc73",
      "ae736f909b3844cba02edf3e93333d02",
      "718145bc0b2e4bdfa8f3b343a3062d78",
      "03d09855673646cfade51e2e17e544d2",
      "021011882d364c55a3c0902a56c2492a",
      "4805861d33b14d9ba182fa4203c7eca0",
      "42dd7078d0654f8da1c2377d1b025357",
      "b1d73423e1e945b4b0aa2a0d0956ad5e",
      "f5dca3354cf841838efade69f6f74522",
      "58df9f3e26184013989d888aca9f89d6",
      "f1af12e38aa340f689b4f7eacb09042d",
      "761d420634b64a9980a88d9a812ca98f",
      "65fc588569d44576a5bf7c6008f6a68c"
     ]
    },
    "id": "ET7O-o8jNhG_",
    "outputId": "48098497-e528-4a62-f5f7-f6c901a4e49d"
   },
   "outputs": [
    {
     "data": {
      "application/vnd.jupyter.widget-view+json": {
       "model_id": "f15221bb43dc4bbea72c9af47602363b",
       "version_major": 2,
       "version_minor": 0
      },
      "text/plain": [
       "Filter:   0%|          | 0/850151 [00:00<?, ? examples/s]"
      ]
     },
     "metadata": {},
     "output_type": "display_data"
    },
    {
     "data": {
      "application/vnd.jupyter.widget-view+json": {
       "model_id": "718145bc0b2e4bdfa8f3b343a3062d78",
       "version_major": 2,
       "version_minor": 0
      },
      "text/plain": [
       "Filter:   0%|          | 0/100 [00:00<?, ? examples/s]"
      ]
     },
     "metadata": {},
     "output_type": "display_data"
    },
    {
     "name": "stdout",
     "output_type": "stream",
     "text": [
      "DatasetDict({\n",
      "    train: Dataset({\n",
      "        features: ['source', 'problem', 'solution'],\n",
      "        num_rows: 850151\n",
      "    })\n",
      "    test: Dataset({\n",
      "        features: ['source', 'problem', 'solution'],\n",
      "        num_rows: 100\n",
      "    })\n",
      "})\n"
     ]
    }
   ],
   "source": [
    "# Remove chinese characters from COT dataset\n",
    "import re\n",
    "\n",
    "def contains_chinese(text):\n",
    "    # match Chinese characters\n",
    "    pattern = re.compile(r'[\\u4e00-\\u9fff\\u2e80-\\u2eff\\u31c0-\\u31ef\\uff00-\\uffef]')\n",
    "    return bool(pattern.search(text))\n",
    "\n",
    "def filter_entries(dataset, fields):\n",
    "    # Filter out entries that contain Chinese characters\n",
    "    filtered_dataset = dataset.filter(lambda example: not any(contains_chinese(example[field]) for field in fields))\n",
    "    return filtered_dataset\n",
    "\n",
    "# remove entries with Chinese characters\n",
    "fields_to_check = ['problem', 'solution']\n",
    "cot_ds['train'] = filter_entries(cot_ds['train'], fields_to_check)\n",
    "cot_ds['test'] = filter_entries(cot_ds['test'], fields_to_check)\n",
    "print(cot_ds)"
   ]
  },
  {
   "cell_type": "code",
   "execution_count": 42,
   "metadata": {
    "colab": {
     "base_uri": "https://localhost:8080/"
    },
    "id": "-GpY104nMQvB",
    "outputId": "88200868-fedd-41ff-81b3-5f0a15f109c6"
   },
   "outputs": [
    {
     "name": "stdout",
     "output_type": "stream",
     "text": [
      "DatasetDict({\n",
      "    train: Dataset({\n",
      "        features: ['source', 'problem', 'solution'],\n",
      "        num_rows: 859494\n",
      "    })\n",
      "    test: Dataset({\n",
      "        features: ['source', 'problem', 'solution'],\n",
      "        num_rows: 100\n",
      "    })\n",
      "})\n",
      "First 10 entries of the train split:\n",
      "{'source': 'synthetic_math', 'problem': 'Consider the terms of an arithmetic sequence: $-\\\\frac{1}{3}, y+2, 4y, \\\\ldots$. Solve for $y$.', 'solution': 'For an arithmetic sequence, the difference between consecutive terms must be equal. Therefore, we can set up the following equations based on the sequence given:\\n\\\\[ (y + 2) - \\\\left(-\\\\frac{1}{3}\\\\right) = 4y - (y+2) \\\\]\\n\\nSimplify and solve these equations:\\n\\\\[ y + 2 + \\\\frac{1}{3} = 4y - y - 2 \\\\]\\n\\\\[ y + \\\\frac{7}{3} = 3y - 2 \\\\]\\n\\\\[ \\\\frac{7}{3} + 2 = 3y - y \\\\]\\n\\\\[ \\\\frac{13}{3} = 2y \\\\]\\n\\\\[ y = \\\\frac{13}{6} \\\\]\\n\\nThus, the value of $y$ that satisfies the given arithmetic sequence is $\\\\boxed{\\\\frac{13}{6}}$.'}\n",
      "{'source': 'synthetic_math', 'problem': 'Suppose that $g(x) = 5x - 3$. What is $g^{-1}(g^{-1}(14))$?', 'solution': 'First, we need to find the inverse function $g^{-1}(x)$. Given $g(x) = 5x - 3$, solve for $x$:\\n\\\\[ y = 5x - 3 \\\\]\\n\\\\[ y + 3 = 5x \\\\]\\n\\\\[ x = \\\\frac{y + 3}{5} \\\\]\\nThus, $g^{-1}(x) = \\\\frac{x + 3}{5}$.\\n\\nNow, apply $g^{-1}$ twice to the given value $14$:\\n\\\\[ g^{-1}(14) = \\\\frac{14 + 3}{5} = \\\\frac{17}{5} \\\\]\\n\\\\[ g^{-1}\\\\left(\\\\frac{17}{5}\\\\right) = \\\\frac{\\\\frac{17}{5} + 3}{5} = \\\\frac{\\\\frac{17}{5} + \\\\frac{15}{5}}{5} = \\\\frac{32}{5 \\\\times 5} = \\\\frac{32}{25} \\\\]\\n\\nThus, $g^{-1}(g^{-1}(14)) = \\\\boxed{\\\\frac{32}{25}}$.'}\n",
      "{'source': 'synthetic_math', 'problem': 'A farmer has a rectangular field with dimensions $3m+8$ and $m-3$ where $m$ is a positive integer. If the field has an area of 76 square meters, find the value of $m$.', 'solution': 'Using the given dimensions, we set up the area equation:\\n\\\\[\\n(3m+8)(m-3) = 76.\\n\\\\]\\nExpanding this, we get:\\n\\\\[\\n3m^2 - 9m + 8m - 24 = 76,\\n\\\\]\\n\\\\[\\n3m^2 - m - 24 = 76,\\n\\\\]\\n\\\\[\\n3m^2 - m - 100 = 0.\\n\\\\]\\nFactoring the quadratic, we find:\\n\\\\[\\n(3m+25)(m-4) = 0.\\n\\\\]\\nThis gives two potential solutions for $m$: $m=-\\\\frac{25}{3}$ and $m=4$. Since $m$ must be a positive integer, the only valid solution is $m = \\\\boxed{4}$.'}\n",
      "{'source': 'cn_k12', 'problem': 'Given the functions $f(x) = \\\\log_a(1+x)$ and $g(x) = \\\\log_a(1-x)$, where $a>0$ and $a \\\\neq 1$.\\n1. Find the domain of the function $f(x) - g(x)$.\\n2. Determine the parity of the function $f(x) - g(x)$.\\n3. Find the range of $x$ for which $f(x) - g(x) > 0$.', 'solution': '1. Since $f(x) = \\\\log_a(1+x)$ and $g(x) = \\\\log_a(1-x)$, where $a>0$ and $a \\\\neq 1$, we have $f(x) - g(x) = \\\\log_a(1+x) - \\\\log_a(1-x)$, where $a>0$ and $a \\\\neq 1$. To ensure the function $f(x) - g(x)$ is meaningful, we need\\n$$\\n\\\\begin{cases}\\n1+x > 0 \\\\\\\\\\n1-x > 0\\n\\\\end{cases}\\n$$\\nSolving this, we get $-1 < x < 1$, which means the domain of the function $f(x) - g(x)$ is $(-1, 1)$.\\n\\n2. Since the domain of $f(x) - g(x)$ is $(-1, 1)$, which is symmetric about the origin, let $F(x) = f(x) - g(x)$. Then $F(-x) = f(-x) - g(-x) = \\\\log_a(1-x) - \\\\log_a(1+x) = -[\\\\log_a(1+x) - \\\\log_a(1-x)] = -F(x)$. Therefore, $f(x) - g(x)$ is an odd function.\\n\\n3. From $f(x) - g(x) > 0$, we get $f(x) > g(x)$, which means $\\\\log_a(1+x) > \\\\log_a(1-x)$. If $a > 1$, then\\n$$\\n\\\\begin{cases}\\n-1 < x < 1 \\\\\\\\\\n1+x > 1-x\\n\\\\end{cases}\\n$$\\nwhich simplifies to\\n$$\\n\\\\begin{cases}\\n-1 < x < 1 \\\\\\\\\\nx > 0\\n\\\\end{cases}\\n$$\\nSolving this, we get $0 < x < 1$. If $0 < a < 1$, then\\n$$\\n\\\\begin{cases}\\n-1 < x < 1 \\\\\\\\\\n1+x < 1-x\\n\\\\end{cases}\\n$$\\nwhich simplifies to\\n$$\\n\\\\begin{cases}\\n-1 < x < 1 \\\\\\\\\\nx < 0\\n\\\\end{cases}\\n$$\\nSolving this, we get $-1 < x < 0$. In summary, if $a > 1$, the solution set for the inequality is $(0, 1)$, and if $0 < a < 1$, the solution set for the inequality is $(-1, 0)$.\\n\\nTherefore, the final answers are:\\n1. The domain of $f(x) - g(x)$ is $\\\\boxed{(-1, 1)}$.\\n2. The function $f(x) - g(x)$ is an $\\\\boxed{\\\\text{odd function}}$.\\n3. The range of $x$ for which $f(x) - g(x) > 0$ is $\\\\boxed{(0, 1)}$ if $a > 1$, and $\\\\boxed{(-1, 0)}$ if $0 < a < 1$.'}\n",
      "{'source': 'synthetic_math', 'problem': 'Find all solutions to the equation $\\\\displaystyle\\\\sqrt[3]{3 - \\\\frac{x}{3}} = -2$.', 'solution': 'Start by isolating the cube root:\\n$$ \\\\sqrt[3]{3 - \\\\frac{x}{3}} = -2 $$\\n\\nCube both sides to eliminate the cube root:\\n$$ 3 - \\\\frac{x}{3} = (-2)^3 $$\\n$$ 3 - \\\\frac{x}{3} = -8 $$\\n\\nSolve for $x$:\\n$$ 3 + 8 = \\\\frac{x}{3} $$\\n$$ 11 = \\\\frac{x}{3} $$\\n$$ x = 33 $$\\n\\nThus, the solution to the equation is:\\n$$ \\\\boxed{x = 33} $$'}\n",
      "{'source': 'cn_k12', 'problem': 'In $\\\\triangle ABC$, the lengths of the sides opposite to angles $A$, $B$, and $C$ are $a$, $b$, and $c$ respectively. Given that $\\\\cos \\\\frac{C}{2} = \\\\frac{\\\\sqrt{5}}{3}$ and $a \\\\cos B + b \\\\cos A = 2$, find the maximum area of $\\\\triangle ABC$.', 'solution': 'Since $\\\\cos \\\\frac{C}{2} = \\\\frac{\\\\sqrt{5}}{3}$, we have $\\\\cos C = 2\\\\cos^2 \\\\frac{C}{2} - 1 = 2 \\\\left(\\\\frac{\\\\sqrt{5}}{3}\\\\right)^2 - 1 = \\\\frac{1}{9}$.\\n\\nUsing the cosine law, we have $a \\\\cos B + b \\\\cos A = 2$ can be written as\\n\\n$a \\\\frac{a^2 + c^2 - b^2}{2ac} + b \\\\frac{c^2 + b^2 - a^2}{2bc} = 2$\\n\\nSimplifying the equation, we obtain $c = 2$.\\n\\nNow, we have $4 = a^2 + b^2 - 2ab \\\\cos C \\\\geq 2ab - 2ab \\\\frac{1}{9} = \\\\frac{16}{9}ab$, which implies $ab \\\\leq \\\\frac{9}{4}$. The equality holds when $a = b = \\\\frac{3}{2}$.\\n\\nUsing the sine law, we have $\\\\sin C = \\\\sqrt{1 - \\\\cos^2 C} = \\\\sqrt{1 - \\\\left(\\\\frac{1}{9}\\\\right)^2} = \\\\frac{4\\\\sqrt{5}}{9}$.\\n\\nThe area of $\\\\triangle ABC$ is given by $S = \\\\frac{1}{2}ab \\\\sin C \\\\leq \\\\frac{1}{2} \\\\cdot \\\\frac{9}{4} \\\\cdot \\\\frac{4\\\\sqrt{5}}{9} = \\\\boxed{\\\\frac{\\\\sqrt{5}}{2}}$.\\n\\nTherefore, the maximum area of $\\\\triangle ABC$ is $\\\\boxed{\\\\frac{\\\\sqrt{5}}{2}}$.'}\n",
      "{'source': 'orca_math', 'problem': 'Julian is writing a comic book. On average, his story has 280 frames per page. In his 25-page book, 10 pages have 305 frames, 7 pages have 250 frames, and the remaining pages have the average number of frames. How many frames will there be in total in his comic book?', 'solution': \"First, let's calculate the total number of frames for the pages that don't have the average number of frames.\\n\\nFor the 10 pages with 305 frames each:\\n10 pages * 305 frames/page = 3050 frames\\n\\nFor the 7 pages with 250 frames each:\\n7 pages * 250 frames/page = 1750 frames\\n\\nNow, let's find out how many pages have the average number of frames. Julian's book has 25 pages in total, and we already know the frame count for 17 of them (10 with 305 frames and 7 with 250 frames).\\n\\n25 pages - 10 pages - 7 pages = 8 pages\\n\\nThese 8 pages have the average number of frames, which is 280 frames per page.\\n\\n8 pages * 280 frames/page = 2240 frames\\n\\nNow, let's add up all the frames:\\n\\n3050 frames (from the 10 pages) + 1750 frames (from the 7 pages) + 2240 frames (from the 8 pages) = 7040 frames\\n\\nSo, there will be a total of $\\\\boxed{7040}$  frames in Julian's comic book.\"}\n",
      "{'source': 'synthetic_math', 'problem': 'If an arc of $60^{\\\\circ}$ on circle $C$ has the same length as an arc of $40^{\\\\circ}$ on circle $D$, what is the ratio of the area of circle $C$ to the area of circle $D$? Express your answer as a common fraction.', 'solution': 'Let $C_C = 2\\\\pi R_C$ be the circumference of circle $C$, and let $C_D = 2\\\\pi R_D$ be the circumference of circle $D$. Let $L$ be the common length of the two arcs. Then,\\n\\\\[\\n\\\\frac{60}{360}C_C = L = \\\\frac{40}{360}C_D.\\n\\\\]\\nThis simplifies to:\\n\\\\[\\n\\\\frac{1}{6}C_C = \\\\frac{1}{9}C_D.\\n\\\\]\\nThus,\\n\\\\[\\n\\\\frac{C_C}{C_D} = \\\\frac{3}{2}\\\\quad\\\\text{so}\\\\quad\\n\\\\frac{3}{2} = \\\\frac{2\\\\pi R_C}{2\\\\pi R_D} = \\\\frac{R_C}{R_D}.\\n\\\\]\\nTherefore, the ratio of the areas is:\\n\\\\[\\n\\\\frac{\\\\text{Area of Circle }(C)}{\\\\text{Area of Circle }(D)}\\n= \\\\frac{\\\\pi R_C^2}{\\\\pi R_D^2} = \\\\left(\\\\frac{R_C}{R_D}\\\\right)^2 = \\\\boxed{\\\\frac{9}{4}}.\\n\\\\]'}\n",
      "{'source': 'cn_k12', 'problem': 'Given that $P$ is any point on the circle $C$: $(x-2)^{2}+(y-2)^{2}=1$, and $Q$ is any point on the line $l$: $x+y=1$, find the minimum value of $| \\\\overrightarrow{OP}+ \\\\overrightarrow{OQ}|$.', 'solution': 'The distance $d$ between the center of the circle $C(2,2)$ and the line $l$: $x+y=1$ is $d= \\\\frac{|2+2-1|}{ \\\\sqrt{2}}= \\\\frac{3}{ \\\\sqrt{2}} > 1$, hence the line $l$ and the circle $C$ are separate.\\n\\nLet the coordinates of $P$ be $(x,y)$, then $P$ is any point on the circle $C$: $(x-2)^{2}+(y-2)^{2}=1$.\\n\\nLet the coordinates of $Q$ be $(a,1-a)$, then $Q$ is any point on the line $l$: $x+y=1$.\\n\\nThus, $\\\\overrightarrow{OP}+ \\\\overrightarrow{OQ}=(x+a,y+1-a)$, and $| \\\\overrightarrow{OP}+ \\\\overrightarrow{OQ}|= \\\\sqrt{(x+a)^{2}+(y+1-a)^{2}}$, which represents the distance from the point $(-a,a-1)$ to any point on the circle $C$: $(x-2)^{2}+(y-2)^{2}=1$.\\n\\nLet the distance between the point $(-a,a-1)$ and the center of the circle $C(2,2)$ be $d$, then the minimum value of $| \\\\overrightarrow{OP}+ \\\\overrightarrow{OQ}|$ is $d-1$.\\n\\nWe have $d= \\\\sqrt{(-a-2)^{2}+(a-1-2)^{2}}= \\\\sqrt{2a^{2}-2a+13}= \\\\sqrt{2(a- \\\\frac{1}{2})^{2}+ \\\\frac{25}{2}}$,\\n\\nWhen $a= \\\\frac{1}{2}$, $d$ is minimum and equals to $ \\\\sqrt{ \\\\frac{25}{2}}$, hence the minimum value of $| \\\\overrightarrow{OP}+ \\\\overrightarrow{OQ}|$ is $d-1= \\\\frac{5 \\\\sqrt{2}}{2}-1= \\\\boxed{\\\\frac{5 \\\\sqrt{2}-2}{2}}$.\\n\\nFirstly, determine that the line $l$: $x+y=1$ and the circle $C$ are separate. Then, set the coordinates of $P$ and $Q$ to obtain the coordinates of $\\\\overrightarrow{OP}+ \\\\overrightarrow{OQ}$. The analytical expression of $| \\\\overrightarrow{OP}+ \\\\overrightarrow{OQ}|$ can be derived, and its minimum value can be found using the geometric meaning of $| \\\\overrightarrow{OP}+ \\\\overrightarrow{OQ}|$ and the properties of quadratic functions.\\n\\nThis problem primarily tests the understanding of the relationship between a line and a circle, the calculation of the magnitude of a vector, and the formula for the distance between two points, as well as the properties of quadratic functions. It is of moderate difficulty.'}\n",
      "{'source': 'synthetic_math', 'problem': 'Compute $\\\\cos 225^\\\\circ$.', 'solution': 'Let $Q$ be the point on the unit circle that corresponds to $225^\\\\circ$ measured counterclockwise from the positive $x$-axis. \\n\\nThe angle $225^\\\\circ$ is $180^\\\\circ + 45^\\\\circ$, placing $Q$ in the third quadrant of the unit circle. A point in the third quadrant has both negative $x$ and $y$ coordinates. Since the reference angle here (the acute angle with the $x$-axis) is $45^\\\\circ$, we know from symmetry and the properties of $45^\\\\circ-45^\\\\circ-90^\\\\circ$ triangles that the coordinates of $Q$ must be negative versions of those at $45^\\\\circ$, which are $\\\\left(\\\\frac{\\\\sqrt{2}}{2}, \\\\frac{\\\\sqrt{2}}{2}\\\\right)$.\\n\\nThus, the coordinates of $Q$ are $\\\\left(-\\\\frac{\\\\sqrt{2}}{2}, -\\\\frac{\\\\sqrt{2}}{2}\\\\right)$. Therefore, $\\\\cos 225^\\\\circ$, which is the $x$-coordinate of $Q$, equals $-\\\\frac{\\\\sqrt{2}}{2}$.\\n\\nConclusion:\\n$\\\\cos 225^\\\\circ = \\\\boxed{-\\\\frac{\\\\sqrt{2}}{2}}$.'}\n",
      "--------------------\n",
      "First 10 entries of the test split:\n",
      "{'source': 'aops_forum', 'problem': 'Let  $x, y$  be real numbers such that  $1\\\\le x^2-xy+y^2\\\\le2$ . Show that:\\na)  $\\\\dfrac{2}{9}\\\\le x^4+y^4\\\\le 8$ ;\\nb)  $x^{2n}+y^{2n}\\\\ge\\\\dfrac{2}{3^n}$ , for all  $n\\\\ge3$ .\\n\\n*Laurențiu Panaitopol* and *Ioan Tomescu*', 'solution': '### Part (a)\\nWe need to show that:\\n\\\\[\\n\\\\frac{2}{9} \\\\le x^4 + y^4 \\\\le 8\\n\\\\]\\n\\n1. **Lower Bound:**\\n   Given \\\\(1 \\\\le x^2 - xy + y^2 \\\\le 2\\\\), we start by using the inequality:\\n   \\\\[\\n   x^4 + y^4 \\\\ge \\\\frac{2}{9}(x^2 - xy + y^2)\\n   \\\\]\\n   To prove this, we use the fact that:\\n   \\\\[\\n   x^4 + y^4 \\\\ge \\\\frac{2}{9}(x^2 - xy + y^2)\\n   \\\\]\\n   This can be derived from the inequality:\\n   \\\\[\\n   4(x+y)^2(x^2 - xy + y^2) + 3(x-y)^2(x+y)^2 \\\\ge 0\\n   \\\\]\\n   which is always true since both terms on the left-hand side are non-negative. Equality holds when \\\\(x = -y = \\\\pm \\\\frac{1}{\\\\sqrt{3}}\\\\).\\n\\n   Given \\\\(1 \\\\le x^2 - xy + y^2 \\\\le 2\\\\), we have:\\n   \\\\[\\n   x^4 + y^4 \\\\ge \\\\frac{2}{9} \\\\cdot 1 = \\\\frac{2}{9}\\n   \\\\]\\n\\n2. **Upper Bound:**\\n   We need to show:\\n   \\\\[\\n   x^4 + y^4 \\\\le 2(x^2 - xy + y^2)^2\\n   \\\\]\\n   This follows from:\\n   \\\\[\\n   x^4 + y^4 \\\\le 2(x^2 - xy + y^2)^2\\n   \\\\]\\n   which simplifies to:\\n   \\\\[\\n   (x-y)^4 \\\\ge 0\\n   \\\\]\\n   which is always true. Equality holds when \\\\(x = y = \\\\sqrt{2}\\\\).\\n\\n   Given \\\\(1 \\\\le x^2 - xy + y^2 \\\\le 2\\\\), we have:\\n   \\\\[\\n   x^4 + y^4 \\\\le 2 \\\\cdot 2^2 = 8\\n   \\\\]\\n\\nThus, we have shown:\\n\\\\[\\n\\\\frac{2}{9} \\\\le x^4 + y^4 \\\\le 8\\n\\\\]\\n\\n### Part (b)\\nWe need to show that for all \\\\(n \\\\ge 3\\\\):\\n\\\\[\\nx^{2n} + y^{2n} \\\\ge \\\\frac{2}{3^n}\\n\\\\]\\n\\n1. **Using Power Mean Inequality:**\\n   From the Power Mean Inequality, we have:\\n   \\\\[\\n   \\\\left( \\\\frac{x^{2n} + y^{2n}}{2} \\\\right)^{\\\\frac{1}{2n}} \\\\ge \\\\left( \\\\frac{x^4 + y^4}{2} \\\\right)^{\\\\frac{1}{4}}\\n   \\\\]\\n   Raising both sides to the power \\\\(2n\\\\), we get:\\n   \\\\[\\n   \\\\frac{x^{2n} + y^{2n}}{2} \\\\ge \\\\left( \\\\frac{x^4 + y^4}{2} \\\\right)^{\\\\frac{2n}{4}}\\n   \\\\]\\n   Simplifying, we have:\\n   \\\\[\\n   x^{2n} + y^{2n} \\\\ge 2 \\\\left( \\\\frac{x^4 + y^4}{2} \\\\right)^{\\\\frac{n}{2}}\\n   \\\\]\\n\\n2. **Using the Lower Bound from Part (a):**\\n   From part (a), we know:\\n   \\\\[\\n   x^4 + y^4 \\\\ge \\\\frac{2}{9}\\n   \\\\]\\n   Substituting this into the inequality, we get:\\n   \\\\[\\n   x^{2n} + y^{2n} \\\\ge 2 \\\\left( \\\\frac{\\\\frac{2}{9}}{2} \\\\right)^{\\\\frac{n}{2}} = 2 \\\\left( \\\\frac{1}{9} \\\\right)^{\\\\frac{n}{2}} = 2 \\\\cdot \\\\frac{1}{3^n} = \\\\frac{2}{3^n}\\n   \\\\]\\n\\nThus, we have shown:\\n\\\\[\\nx^{2n} + y^{2n} \\\\ge \\\\frac{2}{3^n}\\n\\\\]\\n\\nThe final answer is \\\\( \\\\boxed{ \\\\frac{2}{9} \\\\le x^4 + y^4 \\\\le 8 } \\\\) and \\\\(x^{2n} + y^{2n} \\\\ge \\\\frac{2}{3^n}\\\\)'}\n",
      "{'source': 'cn_k12', 'problem': 'Given the function $f(x)=|x+1|-|x-2|$.\\n$(1)$ Find the solution set of the inequality $f(x)\\\\geqslant 1$;\\n$(2)$ If the solution set of the inequality $f(x)\\\\geqslant x^{2}-x+m$ is non-empty, find the range of values for $m$.', 'solution': 'Solution:\\n$(1)$ Since $f(x)=|x+1|-|x-2|=\\\\begin{cases} -3, & x < -1 \\\\\\\\ 2x-1, & -1\\\\leqslant x\\\\leqslant 2 \\\\\\\\ 3, & x > 2\\\\end{cases}$, and $f(x)\\\\geqslant 1$,\\nTherefore, when $-1\\\\leqslant x\\\\leqslant 2$, we have $2x-1\\\\geqslant 1$, solving this gives $1\\\\leqslant x\\\\leqslant 2$;\\nWhen $x > 2$, $3\\\\geqslant 1$ always holds, thus $x > 2$;\\nOverall, the solution set of the inequality $f(x)\\\\geqslant 1$ is $\\\\boxed{\\\\{x|x\\\\geqslant 1\\\\}}$.\\n\\n$(2)$ The original expression is equivalent to the existence of $x\\\\in\\\\mathbb{R}$ such that $f(x)-x^{2}+x\\\\geqslant m$ holds,\\nwhich means $m\\\\leqslant \\\\max[f(x)-x^{2}+x]$, let $g(x)=f(x)-x^{2}+x$.\\nFrom $(1)$, we know $g(x)=\\\\begin{cases} -x^{2}+x-3, & x\\\\leqslant -1 \\\\\\\\ -x^{2}+3x-1, & -1 < x < 2 \\\\\\\\ -x^{2}+x+3, & x\\\\geqslant 2\\\\end{cases}$,\\nWhen $x\\\\leqslant -1$, $g(x)=-x^{2}+x-3$, it opens downwards, and the axis of symmetry is $x= \\\\dfrac {1}{2} > -1$,\\nTherefore, $g(x)\\\\leqslant g(-1)=-1-1-3=-5$;\\nWhen $-1 < x < 2$, $g(x)=-x^{2}+3x-1$, it opens downwards, and the axis of symmetry is $x= \\\\dfrac {3}{2}\\\\in(-1,2)$,\\nTherefore, $g(x)\\\\leqslant g\\\\left( \\\\dfrac {3}{2}\\\\right)=- \\\\dfrac {9}{4}+ \\\\dfrac {9}{2}-1= \\\\dfrac {5}{4}$;\\nWhen $x\\\\geqslant 2$, $g(x)=-x^{2}+x+3$, it opens downwards, and the axis of symmetry is $x= \\\\dfrac {1}{2} < 2$,\\nTherefore, $g(x)\\\\leqslant g(2)=-4+2+3=1$;\\nOverall, $\\\\max g(x)= \\\\dfrac {5}{4}$,\\nTherefore, the range of values for $m$ is $\\\\boxed{(-\\\\infty, \\\\dfrac {5}{4}]}$.'}\n",
      "{'source': 'orca_math', 'problem': 'two cars start from the opposite places of a main road , 150 km apart . first car runs for 25 km and takes a right turn and then runs 15 km . it then turns left and then runs for another 25 km and then takes the direction back to reach the main road . in the mean time , due to minor break down the other car has run only 35 km along the main road . what would be the distance between two cars at this point ?', 'solution': \"Let's break down the movements of the first car:\\n\\n1. The first car runs 25 km along the main road.\\n2. It takes a right turn and runs 15 km.\\n3. It takes a left turn and runs another 25 km.\\n4. It then takes the direction back to reach the main road.\\n\\nWhen the first car takes a right turn and then a left turn, it forms a right-angled triangle with the main road. The distance it travels away from the main road (the 15 km) will not affect the distance between the two cars along the main road. So, we can ignore the 15 km for now.\\n\\nThe first car travels a total of 25 km + 25 km = 50 km along directions that are parallel to the main road before heading back towards it.\\n\\nThe second car, due to a breakdown, has only managed to travel 35 km along the main road.\\n\\nNow, let's calculate the distance between the two cars along the main road:\\n\\nThe initial distance between the two cars was 150 km. The first car has covered 50 km of this distance, and the second car has covered 35 km.\\n\\nDistance remaining between the two cars along the main road = Initial distance - (Distance covered by first car + Distance covered by second car)\\nDistance remaining = 150 km - (50 km + 35 km)\\nDistance remaining = 150 km - 85 km\\nDistance remaining = 65 km\\n\\nTherefore, the distance between the two cars along the main road is $\\\\boxed{65}$  km.\"}\n",
      "{'source': 'synthetic_math', 'problem': 'How many of the numbers from the set \\\\(\\\\{1, 2, 3, \\\\ldots, 100\\\\}\\\\) have a perfect square factor other than one?', 'solution': \"The potential square factors greater than one are \\\\(4, 9, 16, 25, 36, 49, 64, 81, 100\\\\).\\n- \\\\(4\\\\) divides \\\\(\\\\left\\\\lfloor \\\\frac{100}{4} \\\\right\\\\rfloor = 25\\\\) numbers.\\n- \\\\(9\\\\) divides \\\\(\\\\left\\\\lfloor \\\\frac{100}{9} \\\\right\\\\rfloor = 11\\\\) numbers.\\n- \\\\(16\\\\) divides \\\\(\\\\left\\\\lfloor \\\\frac{100}{16} \\\\right\\\\rfloor = 6\\\\) numbers.\\n- \\\\(25\\\\) divides \\\\(\\\\left\\\\lfloor \\\\frac{100}{25} \\\\right\\\\rfloor = 4\\\\) numbers.\\n- \\\\(36\\\\) divides \\\\(\\\\left\\\\lfloor \\\\frac{100}{36} \\\\right\\\\rfloor = 2\\\\) numbers.\\n- \\\\(49\\\\) divides \\\\(\\\\left\\\\lfloor \\\\frac{100}{49} \\\\right\\\\rfloor = 2\\\\) numbers.\\n- \\\\(64\\\\) divides \\\\(\\\\left\\\\lfloor \\\\frac{100}{64} \\\\right\\\\rfloor = 1\\\\) number.\\n- \\\\(81\\\\) divides \\\\(\\\\left\\\\lfloor \\\\frac{100}{81} \\\\right\\\\rfloor = 1\\\\) number.\\n- \\\\(100\\\\) divides \\\\(\\\\left\\\\lfloor \\\\frac{100}{100} \\\\right\\\\rfloor = 1\\\\) number.\\n\\nOverlap adjustments:\\n- \\\\(4 \\\\cdot 9 = 36\\\\) is counted in both \\\\(4\\\\) and \\\\(9\\\\), so subtract \\\\(\\\\left\\\\lfloor \\\\frac{100}{36} \\\\right\\\\rfloor = 2\\\\) (already included in \\\\(36\\\\)'s count).\\n- \\\\(4 \\\\cdot 16 = 64\\\\) is counted in both \\\\(4\\\\) and \\\\(16\\\\), so subtract \\\\(\\\\left\\\\lfloor \\\\frac{100}{64} \\\\right\\\\rfloor = 1\\\\) (already included in \\\\(64\\\\)'s count).\\n- \\\\(9 \\\\cdot 16 = 144\\\\) is not within range, no need to adjust.\\n\\nFinal calculation:\\n\\\\[ 25 + 11 + 6 + 4 + 2 + 2 + 1 + 1 + 1 - 2 - 1 = \\\\boxed{50} \\\\]\"}\n",
      "{'source': 'orca_math', 'problem': 'A pet store had eighty-five gerbils. If they sold sixty-nine of them, how many would they have left?', 'solution': 'If the pet store had eighty-five gerbils and sold sixty-nine of them, they would have:\\n\\n85 - 69 = $\\\\boxed{16}$  gerbils left.'}\n",
      "{'source': 'orca_math', 'problem': \"In Mary's class, there are 35 students. Their teacher told them they could pay $50 each to finance a big science project that they and their society would benefit greatly from. However, the school offered various discounts based on students' merit and needs. 20 students paid the full amount of $50, while 5 students with high merit got a 25% discount and paid $37.50 each. Additionally, 7 students with demonstrated financial needs paid half the amount at $25 each, and the remaining 3 students got a special 10% discount and paid $45 each. The school also charged a $100 administrative fee. How much was the class able to gather together, accounting for discounts and fees?\", 'solution': \"First, let's calculate the total amount paid by each group of students:\\n\\n1. Full-paying students: 20 students * $50 = $1000\\n2. High merit students: 5 students * $37.50 = $187.50\\n3. Financial needs students: 7 students * $25 = $175\\n4. Special discount students: 3 students * $45 = $135\\n\\nNow, let's add up all the amounts paid by the students:\\n\\nTotal amount from students = $1000 + $187.50 + $175 + $135 = $1497.50\\n\\nFinally, we need to account for the administrative fee:\\n\\nTotal amount gathered = Total amount from students - Administrative fee\\nTotal amount gathered = $1497.50 - $100 = $1397.50\\n\\nSo, the class was able to gather together $\\\\boxed{\\\\$1397.50}$  for the science project after accounting for discounts and fees.\"}\n",
      "{'source': 'gsm8k', 'problem': 'Lily got a new puppy for her birthday.  She was responsible for feeding the puppy 1/4 cup of food three times a day for two weeks starting tomorrow.  For the following 2 weeks, Lily will feed him 1/2 cup of food twice a day.  She has fed him 1/2 cup of food today.  Including today, how much food will the puppy eat over the next 4 weeks?', 'solution': \"To calculate the total amount of food the puppy will eat over the next 4 weeks, including today, we can break down the calculation as follows:\\n\\n1. **Calculate the total days for the first 2 weeks:**\\n   - Since 1 week has 7 days, 2 weeks will have $2 \\\\times 7 = 14$ days.\\n\\n2. **Calculate the food consumption for the first 2 weeks:**\\n   - The puppy eats $\\\\frac{1}{4}$ cup of food three times a day, which amounts to $0.25 \\\\times 3 = 0.75$ cups per day.\\n   - Over 14 days, the total consumption is $0.75 \\\\times 14 = 10.5$ cups.\\n\\n3. **Calculate the food consumption for the next 2 weeks:**\\n   - The puppy will then eat $0.5$ cup of food twice a day, which amounts to $0.5 \\\\times 2 = 1$ cup per day.\\n   - Over the next 14 days, the total consumption is $1 \\\\times 14 = 14$ cups.\\n\\n4. **Include today's food consumption:**\\n   - She has already fed him $0.5$ cup of food today.\\n\\n5. **Calculate the total food consumption:**\\n   - Adding today's consumption to the total for the next 4 weeks, we get $0.5 + 10.5 + 14 = 25$ cups of food.\\n\\nTherefore, including today, the puppy will eat a total of $\\\\boxed{25}$ cups of food over the next 4 weeks.\"}\n",
      "{'source': 'orca_math', 'problem': '4 pints of a 5% antifreeze solution and 8 pints of a 20% antifreeze solution must be mixed to obtain 12 pints of a solution with what percentage of antifreeze?', 'solution': \"To find the percentage of antifreeze in the final mixture, we can use the following steps:\\n\\n1. Calculate the total amount of antifreeze in the 5% solution.\\n2. Calculate the total amount of antifreeze in the 20% solution.\\n3. Add the amounts of antifreeze from both solutions to find the total amount of antifreeze in the final mixture.\\n4. Divide the total amount of antifreeze by the total volume of the final mixture and multiply by 100 to find the percentage.\\n\\nLet's do the calculations:\\n\\n1. The total amount of antifreeze in the 4 pints of 5% solution is:\\n(5/100) * 4 pints = 0.05 * 4 = 0.2 pints\\n\\n2. The total amount of antifreeze in the 8 pints of 20% solution is:\\n(20/100) * 8 pints = 0.20 * 8 = 1.6 pints\\n\\n3. The total amount of antifreeze in the final mixture is:\\n0.2 pints + 1.6 pints = 1.8 pints\\n\\n4. The final mixture is 12 pints, so the percentage of antifreeze in the final mixture is:\\n(1.8 pints / 12 pints) * 100 = 0.15 * 100 = 15%\\n\\nTherefore, the final mixture will have $\\\\boxed{15\\\\%}$  antifreeze.\"}\n",
      "{'source': 'synthetic_math', 'problem': 'Let $\\\\mathbf{a}, \\\\mathbf{b}, \\\\mathbf{c}, \\\\mathbf{d}$ be four distinct vectors in space, with magnitudes such that $|\\\\mathbf{a}| = 1$, $|\\\\mathbf{b}| = 2$, $|\\\\mathbf{c}| = 3$, $|\\\\mathbf{d}| = 2$. These vectors satisfy the following conditions:\\n\\\\[\\n\\\\mathbf{a} \\\\cdot \\\\mathbf{b} = 1, \\\\quad \\\\mathbf{a} \\\\cdot \\\\mathbf{c} = -1, \\\\quad \\\\mathbf{b} \\\\cdot \\\\mathbf{c} = 0, \\\\quad \\\\mathbf{b} \\\\cdot \\\\mathbf{d} = -1, \\\\quad \\\\mathbf{c} \\\\cdot \\\\mathbf{d} = 3.\\n\\\\]\\nFind $\\\\mathbf{a} \\\\cdot \\\\mathbf{d}$.', 'solution': 'Let $O$ be the origin, and let $A, B, C, D$ be points such that $\\\\overrightarrow{OA} = \\\\mathbf{a}, \\\\overrightarrow{OB} = \\\\mathbf{b}, \\\\overrightarrow{OC} = \\\\mathbf{c}, \\\\overrightarrow{OD} = \\\\mathbf{d}$.\\n\\nUsing the dot product and the magnitudes, we have:\\n\\\\[\\n\\\\mathbf{a} \\\\cdot \\\\mathbf{b} = |\\\\mathbf{a}||\\\\mathbf{b}|\\\\cos \\\\angle AOB = 1 \\\\times 2 \\\\cos \\\\angle AOB = 2 \\\\cos \\\\angle AOB\\n\\\\]\\nSince $\\\\mathbf{a} \\\\cdot \\\\mathbf{b} = 1$, it follows that $\\\\cos \\\\angle AOB = \\\\frac{1}{2}$.\\n\\nSimilarly, for $\\\\mathbf{a} \\\\cdot \\\\mathbf{c}$:\\n\\\\[\\n\\\\mathbf{a} \\\\cdot \\\\mathbf{c} = |\\\\mathbf{a}||\\\\mathbf{c}|\\\\cos \\\\angle AOC = 1 \\\\times 3 \\\\cos \\\\angle AOC\\n\\\\]\\nSince $\\\\mathbf{a} \\\\cdot \\\\mathbf{c} = -1$, $\\\\cos \\\\angle AOC = -\\\\frac{1}{3}$.\\n\\nNow, consider $\\\\mathbf{b} \\\\cdot \\\\mathbf{d}$:\\n\\\\[\\n\\\\mathbf{b} \\\\cdot \\\\mathbf{d} = |\\\\mathbf{b}||\\\\mathbf{d}|\\\\cos \\\\angle BOD = 2 \\\\times 2 \\\\cos \\\\angle BOD\\n\\\\]\\nGiven that $\\\\mathbf{b} \\\\cdot \\\\mathbf{d} = -1$, $\\\\cos \\\\angle BOD = -\\\\frac{1}{4}$.\\n\\nFor $\\\\mathbf{c} \\\\cdot \\\\mathbf{d}$:\\n\\\\[\\n\\\\mathbf{c} \\\\cdot \\\\mathbf{d} = |\\\\mathbf{c}||\\\\mathbf{d}|\\\\cos \\\\angle COD = 3 \\\\times 2 \\\\cos \\\\angle COD\\n\\\\]\\nGiven $\\\\mathbf{c} \\\\cdot \\\\mathbf{d} = 3$, $\\\\cos \\\\angle COD = \\\\frac{1}{2}$.\\n\\nTo find $\\\\mathbf{a} \\\\cdot \\\\mathbf{d}$, we need $\\\\cos \\\\angle AOD$:\\n\\\\[\\n\\\\mathbf{a} \\\\cdot \\\\mathbf{d} = |\\\\mathbf{a}||\\\\mathbf{d}|\\\\cos \\\\angle AOD = 1 \\\\times 2 \\\\cos \\\\angle AOD = 2 \\\\cos \\\\angle AOD\\n\\\\]\\nUsing the geometric relationship, analyzing the position of $D$ relative to $A$:\\n\\\\[\\n\\\\mathbf{a} \\\\cdot \\\\mathbf{d} = \\\\frac{\\\\mathbf{a} \\\\cdot \\\\mathbf{b} + \\\\mathbf{b} \\\\cdot \\\\mathbf{d}}{2} = \\\\frac{1 - 1}{2} = 0\\n\\\\]\\n$\\\\mathbf{a} \\\\cdot \\\\mathbf{d} = 0$, so $\\\\cos \\\\angle AOD = 0$.\\n\\nFinally, $\\\\mathbf{a} \\\\cdot \\\\mathbf{d} = 2 \\\\cos \\\\angle AOD = \\\\boxed{0}$.'}\n",
      "{'source': 'synthetic_math', 'problem': 'A circular cake with diameter $16\\\\text{ cm}$ is cut into four equal-sized sector-shaped pieces. Let $m$ be the number of centimeters in the length of the longest line segment that can be drawn in one of these pieces. What is $m^2$?', 'solution': 'Firstly, let’s identify the longest line segment within one sector, which will be the chord, say $CD$, that spans the arc subtended by the central angle of 90° (since the circle is split into four equal parts).\\n\\nDraw a circle with center $O$ and radius $8\\\\text{ cm}$ (half of the diameter). In one sector, the central angle $\\\\angle COB = 90^\\\\circ$. The line segment $CD$ is the chord opposite this angle.\\n\\nUsing the cosine rule in $\\\\triangle COD$ or recognizing that $\\\\triangle COD$ is right-angled (since $\\\\angle COB = 90^\\\\circ$), we find the length of chord $CD$. Since $O$ is the midpoint of $CD$ due to symmetry, each half of $CD$ is a radius of the circle, which is $8\\\\text{ cm}$. Therefore, $CD = 2 \\\\times 8 = 16\\\\text{ cm}$.\\n\\nThus, $m = 16$ and $m^2 = 16^2 = \\\\boxed{256}$.'}\n",
      "--------------------\n"
     ]
    }
   ],
   "source": [
    "# print first 10 entries for COT dataset\n",
    "\n",
    "print(cot_ds)\n",
    "for split in cot_ds:\n",
    "  print(f\"First 10 entries of the {split} split:\")\n",
    "  for i in range(10):\n",
    "    print(cot_ds[split][i])\n",
    "  print(\"-\" * 20)"
   ]
  },
  {
   "cell_type": "code",
   "execution_count": null,
   "metadata": {
    "colab": {
     "base_uri": "https://localhost:8080/"
    },
    "id": "4_cAG85xGewB",
    "outputId": "ef7a5dd4-0b8d-42ff-d6dc-b5c5c14dd3fd"
   },
   "outputs": [
    {
     "name": "stdout",
     "output_type": "stream",
     "text": [
      "Downloading from https://www.kaggle.com/api/v1/datasets/download/mathurinache/math-dataset?dataset_version_number=1...\n"
     ]
    },
    {
     "name": "stderr",
     "output_type": "stream",
     "text": [
      "100%|██████████| 7.07M/7.07M [00:00<00:00, 67.5MB/s]"
     ]
    },
    {
     "name": "stdout",
     "output_type": "stream",
     "text": [
      "Extracting files...\n"
     ]
    },
    {
     "name": "stderr",
     "output_type": "stream",
     "text": [
      "\n"
     ]
    },
    {
     "name": "stdout",
     "output_type": "stream",
     "text": [
      "Path to dataset files: /root/.cache/kagglehub/datasets/mathurinache/math-dataset/versions/1\n"
     ]
    }
   ],
   "source": [
    "import kagglehub\n",
    "\n",
    "# Download latest version\n",
    "path = kagglehub.dataset_download(\"mathurinache/math-dataset\")\n",
    "\n",
    "print(\"Path to dataset files:\", path)"
   ]
  },
  {
   "cell_type": "code",
   "execution_count": null,
   "metadata": {
    "colab": {
     "base_uri": "https://localhost:8080/"
    },
    "id": "1id03ge_QdY8",
    "outputId": "aef415c6-d9bc-41db-d56b-81cedae59810"
   },
   "outputs": [
    {
     "name": "stdout",
     "output_type": "stream",
     "text": [
      "Loaded 7500 problems.\n",
      "Loaded 5000 problems.\n"
     ]
    }
   ],
   "source": [
    "# Preprocess MATH dataset\n",
    "import os\n",
    "from datasets import Dataset, DatasetDict\n",
    "\n",
    "def load_json_files(data_dir):\n",
    "    \"\"\"Loads JSON files from a directory into a Dataset.\"\"\"\n",
    "    all_data = []\n",
    "    problems = 0\n",
    "    for subdir in os.listdir(data_dir):\n",
    "      subdir_path = os.path.join(data_dir, subdir)\n",
    "      for filename in os.listdir(subdir_path):\n",
    "        if filename.endswith(\".json\"):\n",
    "          problems += 1\n",
    "          filepath = os.path.join(subdir_path, filename)\n",
    "          with open(filepath, \"r\") as f:\n",
    "            all_data.append(json.load(f))\n",
    "    # Create a Pandas DataFrame to easily convert into a Dataset\\\n",
    "    print(f\"Loaded {problems} problems.\")\n",
    "    return all_data\n",
    "\n",
    "# Assuming 'path' is from kagglehub.dataset_download\n",
    "math_dir = os.path.join(path, \"MATH\")\n",
    "train_dir = os.path.join(math_dir, \"train\")\n",
    "test_dir = os.path.join(math_dir, \"test\")\n",
    "\n",
    "train_data = load_json_files(train_dir)\n",
    "test_data = load_json_files(test_dir)\n",
    "\n",
    "# Convert the train and test data into Dataset objects\n",
    "train_dataset = Dataset.from_dict({\n",
    "    \"problem\": [item[\"problem\"] for item in train_data],\n",
    "    \"level\": [item[\"level\"] for item in train_data],\n",
    "    \"type\": [item[\"type\"] for item in train_data],\n",
    "    \"solution\": [item[\"solution\"] for item in train_data]\n",
    "})\n",
    "\n",
    "test_dataset = Dataset.from_dict({\n",
    "    \"problem\": [item[\"problem\"] for item in test_data],\n",
    "    \"level\": [item[\"level\"] for item in test_data],\n",
    "    \"type\": [item[\"type\"] for item in test_data],\n",
    "    \"solution\": [item[\"solution\"] for item in test_data]\n",
    "})\n",
    "\n",
    "math_ds = DatasetDict({\n",
    "    \"train\": train_dataset,\n",
    "    \"test\": test_dataset\n",
    "})\n",
    "\n"
   ]
  },
  {
   "cell_type": "code",
   "execution_count": 25,
   "metadata": {
    "colab": {
     "base_uri": "https://localhost:8080/"
    },
    "id": "y8ZKnHhlOydn",
    "outputId": "2461d04b-47ff-4f8d-95d6-920ad2fde239"
   },
   "outputs": [
    {
     "name": "stdout",
     "output_type": "stream",
     "text": [
      "DatasetDict({\n",
      "    train: Dataset({\n",
      "        features: ['problem', 'level', 'type', 'solution'],\n",
      "        num_rows: 7500\n",
      "    })\n",
      "    test: Dataset({\n",
      "        features: ['problem', 'level', 'type', 'solution'],\n",
      "        num_rows: 5000\n",
      "    })\n",
      "})\n",
      "First 10 entries of the train split:\n",
      "{'problem': 'In the diagram, $\\\\triangle ABE$, $\\\\triangle BCE$ and $\\\\triangle CDE$ are right-angled, with $\\\\angle AEB=\\\\angle BEC = \\\\angle CED = 60^\\\\circ$, and $AE=24$. [asy]\\npair A, B, C, D, E;\\nA=(0,20.785);\\nB=(0,0);\\nC=(9,-5.196);\\nD=(13.5,-2.598);\\nE=(12,0);\\ndraw(A--B--C--D--E--A);\\ndraw(B--E);\\ndraw(C--E);\\nlabel(\"A\", A, N);\\nlabel(\"B\", B, W);\\nlabel(\"C\", C, SW);\\nlabel(\"D\", D, dir(0));\\nlabel(\"E\", E, NE);\\n[/asy] Find the perimeter of quadrilateral $ABCD.$', 'level': 'Level 3', 'type': 'Geometry', 'solution': 'Recognizing that all our triangles in the diagram are 30-60-90 triangles, we recall that the ratio of the longer leg to the hypotenuse in such a triangle is $\\\\frac{\\\\sqrt{3}}{2}$. Therefore, we can see that: \\\\begin{align*}\\nAB & = 24 \\\\left(\\\\frac{\\\\sqrt{3}}{2}\\\\right) = 12\\\\sqrt{3}\\\\\\\\\\nBC & = 12 \\\\left(\\\\frac{\\\\sqrt{3}}{2}\\\\right) = 6\\\\sqrt{3}\\\\\\\\\\nCD & = 6 \\\\left(\\\\frac{\\\\sqrt{3}}{2}\\\\right) = 3\\\\sqrt{3}\\\\\\\\\\nED & = 6 \\\\left(\\\\frac{1}{2}\\\\right) = 3\\n\\\\end{align*} The perimeter of quadrilateral $ABCD$ is equal to $AB+BC+CD+DA$ and $DA=DE+EA$, so the perimeter is $12\\\\sqrt{3}+6\\\\sqrt{3}+3\\\\sqrt{3}+3+24 = \\\\boxed{27+21\\\\sqrt{3}}$.'}\n",
      "{'problem': 'Eight circles of diameter 1 are packed in the first quadrant of the coordinate plane as shown. Let region $\\\\mathcal{R}$ be the union of the eight circular regions. Line $l,$ with slope 3, divides $\\\\mathcal{R}$ into two regions of equal area. Line $l$\\'s equation can be expressed in the form $ax=by+c,$ where $a, b,$ and $c$ are positive integers whose greatest common divisor is 1. Find $a^2+b^2+c^2.$[asy] size(150);defaultpen(linewidth(0.7)); draw((6.5,0)--origin--(0,6.5), Arrows(5)); int[] array={3,3,2}; int i,j; for(i=0; i<3; i=i+1) { for(j=0; j<array[i]; j=j+1) { draw(Circle((1+2*i,1+2*j),1)); }} label(\"x\", (7,0)); label(\"y\", (0,7));[/asy]\\n', 'level': 'Level 5', 'type': 'Geometry', 'solution': 'The line passing through the tangency point of the bottom left circle and the one to its right and through the tangency of the top circle in the middle column and the one beneath it is the line we are looking for: a line passing through the tangency of two circles cuts congruent areas, so our line cuts through the four aforementioned circles splitting into congruent areas, and there are an additional two circles on each side. The line passes through $\\\\left(1,\\\\frac 12\\\\right)$ and $\\\\left(\\\\frac 32,2\\\\right)$, which can be easily solved to be $6x = 2y + 5$. Thus, $a^2 + b^2 + c^2 = \\\\boxed{65}$.'}\n",
      "{'problem': 'Let $R$ be a unit square region and $n \\\\geq 4$ an integer. A point $X$ in the interior of $R$ is called n-ray partitional if there are $n$ rays emanating from $X$ that divide $R$ into $n$ triangles of equal area. How many points are $100$-ray partitional but not $60$-ray partitional?\\n$\\\\textbf{(A)}\\\\ 1500 \\\\qquad \\\\textbf{(B)}\\\\ 1560 \\\\qquad \\\\textbf{(C)}\\\\ 2320 \\\\qquad \\\\textbf{(D)}\\\\ 2480 \\\\qquad \\\\textbf{(E)}\\\\ 2500$\\n', 'level': 'Level 5', 'type': 'Geometry', 'solution': 'There must be four rays emanating from $X$ that intersect the four corners of the square region. Depending on the location of $X$, the number of rays distributed among these four triangular sectors will vary. We start by finding the corner-most point that is $100$-ray partitional (let this point be the bottom-left-most point).\\nWe first draw the four rays that intersect the vertices. At this point, the triangular sectors with bases as the sides of the square that the point is closest to both do not have rays dividing their areas. Therefore, their heights are equivalent since their areas are equal. The remaining $96$ rays are divided among the other two triangular sectors, each sector with $48$ rays, thus dividing these two sectors into $49$ triangles of equal areas.\\nLet the distance from this corner point to the closest side be $a$ and the side of the square be $s$. From this, we get the equation $\\\\frac{a\\\\times s}{2}=\\\\frac{(s-a)\\\\times s}{2}\\\\times\\\\frac1{49}$. Solve for $a$ to get $a=\\\\frac s{50}$. Therefore, point $X$ is $\\\\frac1{50}$ of the side length away from the two sides it is closest to. By moving $X$ $\\\\frac s{50}$ to the right, we also move one ray from the right sector to the left sector, which determines another $100$-ray partitional point. We can continue moving $X$ right and up to derive the set of points that are $100$-ray partitional.\\nIn the end, we get a square grid of points each $\\\\frac s{50}$ apart from one another. Since this grid ranges from a distance of $\\\\frac s{50}$ from one side to $\\\\frac{49s}{50}$ from the same side, we have a $49\\\\times49$ grid, a total of $2401$ $100$-ray partitional points. To find the overlap from the $60$-ray partitional, we must find the distance from the corner-most $60$-ray partitional point to the sides closest to it. Since the $100$-ray partitional points form a $49\\\\times49$ grid, each point $\\\\frac s{50}$ apart from each other, we can deduce that the $60$-ray partitional points form a $29\\\\times29$ grid, each point $\\\\frac s{30}$ apart from each other. To find the overlap points, we must find the common divisors of $30$ and $50$ which are $1, 2, 5,$ and $10$. Therefore, the overlapping points will form grids with points $s$, $\\\\frac s{2}$, $\\\\frac s{5}$, and $\\\\frac s{10}$ away from each other respectively. Since the grid with points $\\\\frac s{10}$ away from each other includes the other points, we can disregard the other grids. The total overlapping set of points is a $9\\\\times9$ grid, which has $81$ points. Subtract $81$ from $2401$ to get $2401-81=\\\\boxed{2320}$.'}\n",
      "{'problem': 'Two sectors of a circle of radius $12$ are placed side by side, as shown. Determine the $\\\\textit{area}$ of figure $ABCD.$ [asy]\\ndraw((0,0)--(12,0)..(10.3923,6)..(6,10.3923)--(-6,10.3923)..(-4.3923,4.3923)..(0,0),black+linewidth(1));\\ndraw((0,0)--(6,10.3923),black+linewidth(1)+dashed);\\nlabel(\"$A$\",(-6,10.3923),NW);\\nlabel(\"$B$\",(6,10.3923),NE);\\nlabel(\"$C$\",(12,0),SE);\\nlabel(\"$D$\",(0,0),SW);\\nlabel(\"$60^\\\\circ$\",(2,1));\\nlabel(\"$60^\\\\circ$\",(4,9.3923));\\n[/asy]', 'level': 'Level 2', 'type': 'Geometry', 'solution': 'Each of sector $ABD$ and $BDC$ is one-sixth of a full circle of radius $12,$ so each has area one-sixth of the area of a circle of radius $12.$ Therefore, each sector has area $$\\\\frac{1}{6}(\\\\pi(12^2))=\\\\frac{1}{6}(144\\\\pi)=24\\\\pi.$$ Thus, the area of figure $ABCD$ is $2( 24\\\\pi)=\\\\boxed{48\\\\pi}.$'}\n",
      "{'problem': 'A right circular cone has a volume of $12\\\\pi$ cubic centimeters. The height of the cone is 4 cm. How many centimeters is the circumference of the base of the cone, in terms of $\\\\pi$?', 'level': 'Level 3', 'type': 'Geometry', 'solution': \"The volume of a cone is $\\\\frac{1}{3}\\\\pi r^2 h$. We're given that the volume is $12\\\\pi$ and the height is $4$. Thus, $\\\\frac{1}{3}\\\\pi r^2 \\\\cdot 4 = 12\\\\pi$. Solving for $r$, we find $r = 3$. Therefore, the circumference of the base is $2\\\\pi r = \\\\boxed{6\\\\pi}$.\"}\n",
      "{'problem': 'In the diagram, if $\\\\angle PQR = 48^\\\\circ$, what is the measure of $\\\\angle PMN$? [asy]\\n\\nsize(6cm);\\n\\npair p = (0, 0); pair m = dir(180 - 24); pair n = dir(180 + 24); pair r = 1.3 * dir(24); pair q = 2 * 1.3 * Cos(48) * dir(-24);\\n\\nlabel(\"$M$\", m, N); label(\"$R$\", r, N); label(\"$P$\", p, 1.5 * S); label(\"$N$\", n, S); label(\"$Q$\", q, SE);\\n\\ndraw(m--q--r--n--cycle);\\n\\nadd(pathticks(m--p, s=4));\\n\\nadd(pathticks(n--p, s=4));\\n\\nadd(pathticks(r--p, 2, spacing=0.9, s=4));\\n\\nadd(pathticks(r--q, 2, spacing=0.9, s=4));\\n\\n[/asy]', 'level': 'Level 1', 'type': 'Geometry', 'solution': 'In $\\\\triangle PQR$, since $PR=RQ$, then $\\\\angle RPQ=\\\\angle PQR = 48^\\\\circ$.\\n\\nSince $\\\\angle MPN$ and $\\\\angle RPQ$ are opposite angles, we have $\\\\angle MPN = \\\\angle RPQ=48^\\\\circ$.\\n\\nIn $\\\\triangle PMN$, $PM=PN$, so $\\\\angle PMN = \\\\angle PNM$.\\n\\nTherefore, $$\\\\angle PMN = \\\\frac{1}{2}(180^\\\\circ - \\\\angle MPN) = \\\\frac{1}{2}(180^\\\\circ - 48^\\\\circ) = \\\\frac{1}{2}(132^\\\\circ)=\\\\boxed{66^\\\\circ}.$$'}\n",
      "{'problem': 'A regular octagon $ABCDEFGH$ has sides of length two. Find the area of $\\\\bigtriangleup ADG$. Express your answer in simplest radical form.', 'level': 'Level 5', 'type': 'Geometry', 'solution': 'Construct the right triangle $\\\\bigtriangleup AOB$ as shown in the figure. Since $AB=2$, we have $AO=\\\\sqrt{2}$ and $AD=2+2\\\\sqrt{2}$. Similarly, we have $OG=2+\\\\sqrt{2}$, so \\\\begin{align*}\\n\\\\text{Area}(\\\\bigtriangleup ADG)&=\\\\frac{1}{2}(2+2\\\\sqrt{2})(2+\\\\sqrt{2})\\\\\\\\&=(1+\\\\sqrt{2})(2+\\\\sqrt{2})=\\\\boxed{4+3\\\\sqrt{2}}.\\n\\\\end{align*} [asy]\\nunitsize(1.75cm);\\npair A,B,C,D,I,F,G,H,K;\\nA=(0,0);\\nB=(1,1);\\nK=(1,0);\\nC=(2.41,1);\\nD=(3.41,0);\\nI=(3.41,-1.41);\\nF=(2.41,-2.41);\\nG=(1,-2.41);\\nH=(0,-1.41);\\nlabel(\"2\",(1.7,1),N);\\nlabel(\"2\",(1.7,0),N);\\nlabel(\"2\",(1,-0.7),E);\\nlabel(\"$\\\\sqrt{2}$\",(0.5,0),N);\\nlabel(\"$\\\\sqrt{2}$\",(2.91,0),N);\\nlabel(\"$\\\\sqrt{2}$\",(1,-1.7),E);\\ndraw(A--B--C--D--I--F--G--H--cycle);\\ndraw(A--D--G--cycle);\\ndraw(H--I);\\ndraw(B--G);\\ndraw(C--F);\\nlabel(\"$O$\",K,NE);\\nlabel(\"$A$\",A,W);\\nlabel(\"$B$\",B,N);\\nlabel(\"$C$\",C,N);\\nlabel(\"$D$\",D,E);\\nlabel(\"$E$\",I,E);\\nlabel(\"$F$\",F,S);\\nlabel(\"$G$\",G,S);\\nlabel(\"$H$\",H,W);\\n[/asy]'}\n",
      "{'problem': 'Compute $\\\\sin 510^\\\\circ$.', 'level': 'Level 2', 'type': 'Geometry', 'solution': 'Rotating $360^\\\\circ$ is the same as doing nothing, so rotating $510^\\\\circ$ is the same as rotating $510^\\\\circ - 360^\\\\circ = 150^\\\\circ$.  Therefore, we have $\\\\sin 510^\\\\circ = \\\\sin (510^\\\\circ - 360^\\\\circ) = \\\\sin 150^\\\\circ$.\\n\\nLet $P$ be the point on the unit circle that is $150^\\\\circ$ counterclockwise from $(1,0)$, and let $D$ be the foot of the altitude from $P$ to the $x$-axis, as shown below.\\n\\n[asy]\\npair A,C,P,O,D;\\ndraw((0,-1.2)--(0,1.2),p=black+1.2bp,Arrows(0.15cm));\\ndraw((-1.2,0)--(1.2,0),p=black+1.2bp,Arrows(0.15cm));\\nA = (1,0);\\nO= (0,0);\\nlabel(\"$x$\",(1.2,0),SE);\\nlabel(\"$y$\",(0,1.2),NE);\\n\\nP = rotate(150)*A;\\nD = foot(P,A,-A);\\ndraw(O--P--D);\\ndraw(rightanglemark(O,D,P,2));\\ndraw(Circle(O,1));\\nlabel(\"$O$\",O,SE);\\nlabel(\"$P$\",P,NW);\\n//label(\"$A$\",A,SE);\\nlabel(\"$D$\",D,S);\\n[/asy]\\n\\nTriangle $POD$ is a 30-60-90 triangle, so $DO = \\\\frac{\\\\sqrt{3}}{2}$ and $DP = \\\\frac12$.  Therefore, the coordinates of $P$ are $\\\\left(-\\\\frac{\\\\sqrt{3}}{2}, \\\\frac12\\\\right)$, so $\\\\sin 510^\\\\circ = \\\\sin 150^\\\\circ = \\\\boxed{\\\\frac{1}{2}}$.'}\n",
      "{'problem': 'A truncated cone has horizontal bases with radii 18 and 2. A sphere is tangent to the top, bottom, and lateral surface of the truncated cone. What is the radius of the sphere?', 'level': 'Level 5', 'type': 'Geometry', 'solution': 'Let $\\\\overline{AB}$ and $\\\\overline{DC}$ be parallel diameters of the bottom and top bases, respectively. A great circle of the sphere is tangent to all four sides of trapezoid $ABCD$. Let $E,F$, and $G$ be the points of tangency on $\\\\overline{AB}$, $\\\\overline{BC}$, and $\\\\overline{CD}$, respectively. Then \\\\[\\nFB= EB= 18 \\\\quad\\\\text{and}\\\\quad FC= GC= 2,\\n\\\\]so $BC=20$. If $H$ is on $\\\\overline{AB}$ such that $\\\\angle CHB$ is a right angle, then $HB= 18-2=16.$ Thus \\\\[\\nCH=\\\\sqrt{20^{2}-16^{2}}=12,\\n\\\\]and the radius of the sphere is $(1/2)(12)=\\\\boxed{6}$.\\n\\n[asy]\\nunitsize(0.2cm);\\npair A,B,C,D,I,F,G,H;\\nA=(0,0);\\nB=(36,0);\\nI=(18,0);\\nH=(20,0);\\nD=(16,12);\\nC=(20,12);\\nG=(18,12);\\nF=(21.6,10.8);\\ndot(F);\\ndot(I);\\ndot(G);\\ndraw(Circle((18,6),6),linewidth(0.7));\\ndraw(A--B--C--D--cycle,linewidth(0.7));\\ndraw(G--I,linewidth(0.7));\\ndraw(C--H,linewidth(0.7));\\nlabel(\"2\",(19,12),N);\\ndraw((20,-2)--(36,-2));\\ndraw((18,-4)--(36,-4));\\ndraw((20,-2.5)--(20,-1.5));\\ndraw((36,-2.5)--(36,-1.5));\\ndraw((18,-3.5)--(18,-4.5));\\ndraw((36,-3.5)--(36,-4.5));\\nlabel(\"{\\\\tiny 16}\",(28,-2),S);\\nlabel(\"{\\\\tiny 18}\",(27,-4),S);\\nlabel(\"12\",(20,6),E);\\nlabel(\"$E$\",I,S);\\nlabel(\"{\\\\tiny $H$}\",H,SE);\\nlabel(\"$B$\",B,SE);\\nlabel(\"$F$\",F,NE);\\nlabel(\"$C$\",C,NE);\\nlabel(\"$G$\",G,SW);\\nlabel(\"$D$\",D,NW);\\nlabel(\"$A$\",A,S);\\n[/asy]'}\n",
      "{'problem': 'Let $A_0=(0,0)$. Distinct points $A_1,A_2,\\\\dots$ lie on the $x$-axis, and distinct points $B_1,B_2,\\\\dots$ lie on the graph of $y=\\\\sqrt{x}$. For every positive integer $n,\\\\ A_{n-1}B_nA_n$ is an equilateral triangle. What is the least $n$ for which the length $A_0A_n\\\\geq100$?\\n$\\\\textbf{(A)}\\\\ 13\\\\qquad \\\\textbf{(B)}\\\\ 15\\\\qquad \\\\textbf{(C)}\\\\ 17\\\\qquad \\\\textbf{(D)}\\\\ 19\\\\qquad \\\\textbf{(E)}\\\\ 21$\\n', 'level': 'Level 5', 'type': 'Geometry', 'solution': \"Let $a_n=|A_{n-1}A_n|$. We need to rewrite the recursion into something manageable. The two strange conditions, $B$'s lie on the graph of $y=\\\\sqrt{x}$ and $A_{n-1}B_nA_n$ is an equilateral triangle, can be compacted as follows:\\\\[\\\\left(a_n\\\\frac{\\\\sqrt{3}}{2}\\\\right)^2=\\\\frac{a_n}{2}+a_{n-1}+a_{n-2}+\\\\cdots+a_1\\\\]which uses $y^2=x$, where $x$ is the height of the equilateral triangle and therefore $\\\\frac{\\\\sqrt{3}}{2}$ times its base.\\nThe relation above holds for $n=k$ and for $n=k-1$ $(k>1)$, so\\\\[\\\\left(a_k\\\\frac{\\\\sqrt{3}}{2}\\\\right)^2-\\\\left(a_{k-1}\\\\frac{\\\\sqrt{3}}{2}\\\\right)^2=\\\\]\\\\[=\\\\left(\\\\frac{a_k}{2}+a_{k-1}+a_{k-2}+\\\\cdots+a_1\\\\right)-\\\\left(\\\\frac{a_{k-1}}{2}+a_{k-2}+a_{k-3}+\\\\cdots+a_1\\\\right)\\\\]Or,\\\\[a_k-a_{k-1}=\\\\frac23\\\\]This implies that each segment of a successive triangle is $\\\\frac23$ more than the last triangle. To find $a_{1}$, we merely have to plug in $k=1$ into the aforementioned recursion and we have $a_{1} - a_{0} = \\\\frac23$. Knowing that $a_{0}$ is $0$, we can deduce that $a_{1} = 2/3$.Thus, $a_n=\\\\frac{2n}{3}$, so $A_0A_n=a_n+a_{n-1}+\\\\cdots+a_1=\\\\frac{2}{3} \\\\cdot \\\\frac{n(n+1)}{2} = \\\\frac{n(n+1)}{3}$. We want to find $n$ so that $n^2<300<(n+1)^2$. $n=\\\\boxed{17}$ is our answer.\"}\n",
      "--------------------\n",
      "First 10 entries of the test split:\n",
      "{'problem': 'The point at $(a, b)$ on a Cartesian plane is reflected over the  $y$-axis to the point at $(j, k)$. If $a + j = 0$ and $b + k = 0$, what is the value of $b$?', 'level': 'Level 2', 'type': 'Geometry', 'solution': 'If the point $(a,b)$ is reflected over the $y$-axis, it will land on the point $(-a,b)$.  Thus, $j=-a$ and $k=b$.  We were given that $a+j=0$, and $a+(-a)=0$ so this is satisfied.  From $b+k=0$, we find  $$b+(b)=0\\\\Rightarrow 2b=0$$ $$\\\\boxed{b=0}$$'}\n",
      "{'problem': 'In the arrow-shaped polygon shown below, the angles at vertices $A$, $C$, $D$, $E$, and $F$ are right angles, $BC = FG = 5$, $CD = FE = 20$, $DE = 10$, and $AB = AG$.  Find the area of polygon $ABCDEFG$.\\n\\n[asy]\\nunitsize(1.5 cm);\\n\\npair A, B, C, D, E, F, G;\\n\\nA = (0,0);\\nB = (1,1);\\nC = (1,0.5);\\nD = (2.5,0.5);\\nE = (2.5,-0.5);\\nF = (1,-0.5);\\nG = (1,-1);\\n\\ndraw(A--B--C--D--E--F--G--cycle);\\n\\nlabel(\"$A$\", A, W);\\nlabel(\"$B$\", B, NE);\\nlabel(\"$C$\", C, S);\\nlabel(\"$D$\", D, NE);\\nlabel(\"$E$\", E, SE);\\nlabel(\"$F$\", F, N);\\nlabel(\"$G$\", G, SE);\\nlabel(\"$5$\", (B + C)/2, dir(0));\\nlabel(\"$20$\", (C + D)/2, N);\\nlabel(\"$10$\", (D + E)/2, dir(0));\\nlabel(\"$20$\", (E + F)/2, S);\\nlabel(\"$5$\", (F + G)/2, dir(0));\\n[/asy]', 'level': 'Level 3', 'type': 'Geometry', 'solution': 'Quadrilateral $CDEF$ is a rectangle with area $CD \\\\cdot DE = 20 \\\\cdot 10 = 200$.  Triangle $ABG$ is right-isosceles with hypotenuse $BG = 5 + 10 + 5 = 20$.  Hence, $AB = BG/\\\\sqrt{2} = 20/\\\\sqrt{2} = 10 \\\\sqrt{2}$, so triangle $ABG$ has area $AB^2/2 = (10 \\\\sqrt{2})^2/2 = 100$.  Therefore, the area of polygon $ABCDEFG$ is $200 + 100 = \\\\boxed{300}$.'}\n",
      "{'problem': 'A triangle has vertices $A(-4, -1)$, $B (2, -1)$ and $C(1, 3)$. What is the area, in square units, of triangle $ABC$?', 'level': 'Level 2', 'type': 'Geometry', 'solution': 'Let side $AB$ be the base; it has length $2+4=6$ since it is horizontal.  The altitude from $C$ to $AB$ is the length of the vertical distance from the line to $C$, which is $1+3=4$.  Thus the area is\\n\\n$$\\\\frac{6(4)}{2}=\\\\boxed{12}$$'}\n",
      "{'problem': '$\\\\triangle ABC$ has side lengths 6, 8 and 10, as shown.  Each of the side lengths of $\\\\triangle ABC$ is increased by $50\\\\%$, forming a new triangle, $\\\\triangle DEF$.  What is the area of $\\\\triangle DEF?$', 'level': 'Level 2', 'type': 'Geometry', 'solution': 'Since the side lengths of $\\\\triangle DEF$ are $50\\\\%$ larger than the side lengths of $\\\\triangle ABC$, then these new side lengths are $\\\\frac{3}{2}(6)=9$, $\\\\frac{3}{2}(8)=12$, and $\\\\frac{3}{2}(10)=15$.\\n\\nWe know that $\\\\triangle DEF$ is right-angled, and this right angle must occur between the sides of length 9 and 12 (since it is opposite the longest side). Therefore, the area of $\\\\triangle DEF$ is    $$\\\\frac{1}{2}(9)(12)=\\\\boxed{54}.$$'}\n",
      "{'problem': 'If the degree measure of an arc of a circle is increased by $20\\\\%$ and the radius of the circle is increased by $25\\\\%$, by what percent does the length of the arc increase?', 'level': 'Level 4', 'type': 'Geometry', 'solution': 'Let the original measure of the arc be $x^\\\\circ$ and the original radius have length $r$, so the original arc has length \\\\[\\\\frac{x^\\\\circ}{360^\\\\circ}\\\\cdot 2\\\\pi r.\\\\]\\n\\nThe new measure of the arc is $\\\\frac{6}{5} x^\\\\circ$ and the new radius is $\\\\frac{5}{4}r$ so the new arc has length \\\\[\\\\frac{\\\\frac{6}{5} x^\\\\circ}{360^\\\\circ}\\\\cdot 2\\\\pi \\\\frac{5}{4}r = \\\\left(\\\\frac{6}{5}\\\\cdot \\\\frac{5}{4}\\\\right)\\\\left(\\\\frac{x^\\\\circ}{360^\\\\circ}\\\\cdot 2\\\\pi r\\\\right)= \\\\frac{6}{4}\\\\left(\\\\frac{x^\\\\circ}{360^\\\\circ}\\\\cdot 2\\\\pi r\\\\right),\\\\] which is $\\\\frac{6}{4}$ the length of the original arc.  Hence the arc length increases by $\\\\boxed{50}$ percent.'}\n",
      "{'problem': 'The triangle with vertices $A (6, 1)$, $B (4, 1)$ and $C (4, 4)$ is rotated 90 degrees counterclockwise about $B$. What are the coordinates of the image of $C$ (the point where $C$ is located after the rotation)? Express your answer as an ordered pair.', 'level': 'Level 4', 'type': 'Geometry', 'solution': 'Draw point $B$ and point $C$ and rotate $C$ 90 degrees counterclockwise about $B$, as shown.  Point $C$ is 3 units above $B$, so its image is 3 units to the left of $B$ at $(4-3,1)=\\\\boxed{(1,1)}$.\\n\\n[asy]\\nsize(200);\\ndefaultpen(linewidth(0.7));\\n\\nimport graph;\\n\\nxaxis(-2,5,Ticks(\" \",1.0,begin=false,end=false,NoZero,Size=3),Arrows(4));\\nyaxis(-2,5,Ticks(\" \",1.0,begin=false,end=false,NoZero,Size=3),Arrows(4));\\n\\ndot(\"$B$\",(4,1),SE);\\ndot(\"$C$\",(4,4),N);\\ndot(\"$C\\'$\",(1,1),W);\\ndraw((1,1)--(4,1)--(4,4),dashed);\\ndraw(rightanglemark((1,1),(4,1),(4,4)));[/asy]'}\n",
      "{'problem': 'A square has sides of length 2.  Set $\\\\cal S$ is the set of all line segments that have length 2 and whose endpoints are on adjacent sides of the square.  The midpoints of the line segments in set $\\\\cal S$ enclose a region whose area to the nearest hundredth is $k$.  Find $100k$.', 'level': 'Level 5', 'type': 'Geometry', 'solution': '[asy]\\npair A,B,C,D,M,P,Q;\\n\\nA = (0,0);\\nB=(1,0);\\nC=(1,1);\\nD=(0,1);\\nP = (0.8,0);\\nQ = (0,0.6);\\nM = (P+Q)/2;\\ndraw(A--M);\\ndraw(P--Q--D--C--B--A--Q);\\nlabel(\"$A$\",A, SW);\\nlabel(\"$D$\",D,NW);\\nlabel(\"$C$\",C,NE);\\nlabel(\"$B$\",B,SE);\\nlabel(\"$Q$\",Q,W);\\nlabel(\"$P$\",P,S);\\nlabel(\"$M$\",M,NE);\\n[/asy]\\n\\n\\nLet $\\\\overline{PQ}$ be a line segment in set $\\\\cal\\nS$ that is not a side of the square, and let $M$ be the midpoint of $\\\\overline{PQ}$. Let $A$ be the vertex of the square that is on both the side that contains $P$ and the side that contains $Q$. Because $\\\\overline{AM}$ is the median to the hypotenuse of right $\\\\triangle PAQ$, $AM=(1/2)\\\\cdot PQ=(1/2)\\\\cdot2=1$.  Thus every midpoint is 1 unit from a vertex of the square, and the set of all the midpoints forms four quarter-circles of radius 1 and with centers at the vertices of the square.  The area of the region bounded by the four arcs is $4-4\\\\cdot(\\\\pi/4)=4-\\\\pi$, so $100k=100(4-3.14)=\\\\boxed{86}$.\\n\\n$$\\\\centerline{{\\\\bf OR}}$$Place a coordinate system so that the vertices of the square are at $(0,0)$, $(2,0)$, $(2,2)$, and $(0,2)$.  When the segment\\'s vertices are on the sides that contain $(0,0)$, its endpoints\\' coordinates can be represented as $(a,0)$ and $(0,b)$.  Let the coordinates of the midpoint of the segment be $(x,y)$.  Then $(x,y)=(a/2,b/2)$ and $a^2+b^2=4$.  Thus $x^2+y^2=(a/2)^2+(b/2)^2\\n= 1$, and the midpoints of these segments form a quarter-circle with radius 1 centered at the origin.  The set of all the midpoints forms four quarter-circles, and the area of the region bounded by the four arcs is $4-4\\\\cdot(\\\\pi/4)=4-\\\\pi$, so $100k=100(4-3.14)=\\\\boxed{86}$.'}\n",
      "{'problem': 'Compute $\\\\tan 180^\\\\circ$.', 'level': 'Level 1', 'type': 'Geometry', 'solution': 'Rotating the point $(1,0)$ about the origin by $180^\\\\circ$ counterclockwise gives us the point $(-1,0)$, so $\\\\tan 180^\\\\circ = \\\\frac{\\\\sin 180^\\\\circ}{\\\\cos 180^\\\\circ} = \\\\frac{0}{-1} = \\\\boxed{0}$.'}\n",
      "{'problem': 'In the figure below, side $AE$ of rectangle $ABDE$ is parallel to the $x$-axis, and side $BD$ contains the point $C$. The vertices of triangle $ACE$ are $A(1, 1)$, $C(3, 3)$ and $E(4, 1)$. What is the ratio of the area of triangle $ACE$ to the area of rectangle $ABDE$? Express your answer as a common fraction.\\n\\n[asy]unitsize(1inch);\\ndraw((0,0)--(4.5,0),Arrow);\\ndraw((0,0)--(0,3.5),Arrow);\\ndraw((-0.1,1)--(0.1,1));\\ndraw((-0.1,2)--(0.1,2));\\ndraw((-0.1,3)--(0.1,3));\\ndraw((1,0.1)--(1,-0.1));\\ndraw((2,0.1)--(2,-0.1));\\ndraw((3,0.1)--(3,-0.1));\\ndraw((4,0.1)--(4,-0.1));\\ndraw((1,1)--(1,3)--(4,3)--(4,1)--cycle);\\ndraw((1,1)--(3,3)--(4,1));\\nfill((1,1)--(3,3)--(1,3)--cycle,gray(0.7));\\nfill((3,3)--(4,3)--(4,1)--cycle,gray(0.7));\\nlabel(\"$A$\",(1,1),SW);\\nlabel(\"$B$\",(1,3),NW);\\nlabel(\"$C$\",(3,3),N);\\nlabel(\"$D$\",(4,3),NE);\\nlabel(\"$E$\",(4,1),SE);\\n[/asy]', 'level': 'Level 2', 'type': 'Geometry', 'solution': \"The area of the triangle can be expressed as $\\\\frac{AE \\\\cdot h}{2}$, where $h$ is the height of the triangle from C to AE.  However, the rectangle's area can be expressed as AE$\\\\cdot h$, since AB $=$ DE $= h$, thus, the ratio of the triangle's area to the rectangle's is $\\\\boxed{\\\\frac{1}{2}}$.\"}\n",
      "{'problem': 'In the diagram, $K$, $O$ and $M$ are the centers of the three semi-circles. Also, $OC = 32$ and $CB = 36$.\\n\\n[asy]\\npair A, K, O, C, M, B, X, Y, Z, J, T;\\nO=(0,0);\\nC=(32,0);\\nM=(50,0);\\nB=(68,0);\\nA=(-68,0);\\nK=(A+C)/2;\\nX=(0,68);\\nY=(-18,50);\\nZ=(50,18);\\nJ=(7,43.3);\\nT=(59,15.6);\\npath nom, bigc, middlec, smallc;\\nnom=A--B--(100,100)--(-100,100)--cycle;\\nbigc=A..X..B--cycle;\\nmiddlec=A..Y..C--cycle;\\nsmallc=C..Z..B--cycle;\\nfill(bigc, gray(.5));\\nfill(middlec, white);\\nfill(smallc, white);\\ndraw(smallc);\\ndraw(middlec);\\ndraw(bigc);\\ndraw(A--B);\\nlabel(\"A\", A, S);\\nlabel(\"K\", K, S);\\nlabel(\"O\", O, S);\\nlabel(\"M\", M, S);\\nlabel(\"C\", C, S);\\nlabel(\"B\", B, S);\\nlabel(\"S\", J, SW);\\nlabel(\"E\", T, SW);\\nlabel(\"$l$\", (.9(J-T)+J), NW);\\ndraw((.9(J-T)+J)--(.5(T-J)+T));\\ndot(K);\\ndot(O);\\ndot(M);\\ndot(J);\\ndot(T);\\n[/asy] Line $l$ is drawn to touch the smaller semi-circles at points $S$ and $E$ so that $KS$ and $ME$ are both perpendicular to $l$.  Determine the area of quadrilateral $KSEM$.', 'level': 'Level 5', 'type': 'Geometry', 'solution': 'We know that $OA$ and $OB$ are each radii of the semi-circle with center $O$.  Thus, $OA=OB=OC+CB=32+36=68$.  Therefore, $AC=AO+OC=68+32=100$.\\n\\nThe semi-circle with center $K$ has radius $AK=\\\\frac{1}{2}(AC)=\\\\frac{1}{2}(100)=50$.  The radius of the smaller unshaded circle is $MB=\\\\frac{1}{2}(CB)=\\\\frac{1}{2}(36)=18$.\\n\\n\\nConstruct line segments $KS$ and $ME$ perpendicular to line $l$.  Position point $Q$ on $KS$ so that $MQ$ is perpendicular to $KS$, as shown.  In quadrilateral $MQSE$, $\\\\angle MQS=\\\\angle QSE=\\\\angle SEM=90^\\\\circ$.  Hence, quadrilateral $MQSE$ is a rectangle.  [asy]\\npair A, K, O, C, M, B, X, Y, Z, J, T, Q;\\nO=(0,0);\\nC=(32,0);\\nM=(50,0);\\nB=(68,0);\\nA=(-68,0);\\nK=(A+C)/2;\\nX=(0,68);\\nY=(-18,50);\\nZ=(50,18);\\nJ=(7,43.3);\\nT=(59,15.6);\\nQ=(.64(J-K) + K);\\npath nom, bigc, middlec, smallc;\\nnom=A--B--(100,100)--(-100,100)--cycle;\\nbigc=A..X..B--cycle;\\nmiddlec=A..Y..C--cycle;\\nsmallc=C..Z..B--cycle;\\nfill(bigc, gray(.5));\\nfill(middlec, white);\\nfill(smallc, white);\\ndraw(smallc);\\ndraw(middlec);\\ndraw(bigc);\\ndraw(A--B);\\ndraw(K--J);\\ndraw(T--M--Q);\\nlabel(\"Q\", Q, S);\\nlabel(\"A\", A, S);\\nlabel(\"K\", K, S);\\nlabel(\"O\", O, S);\\nlabel(\"M\", M, S);\\nlabel(\"C\", C, S);\\nlabel(\"B\", B, S);\\nlabel(\"S\", J, SW);\\nlabel(\"E\", T, SW);\\nlabel(\"$l$\", (.9(J-T)+J), NW);\\ndraw((.9(J-T)+J)--(.5(T-J)+T));\\ndot(K);\\ndot(O);\\ndot(M);\\ndot(J);\\ndot(T);\\n[/asy] The larger unshaded semi-circle has radius 50, so $KC=KS=50$. The smaller unshaded semi-circle has radius 18, so $ME=MC=MB=18$. Thus, $MK=MC+KC=18+50=68$. The area of quadrilateral $KSEM$ is the sum of the areas of rectangle $MQSE$ and $\\\\triangle MKQ$.  Since $QS=ME=18$, then $KQ=KS-QS=50-18=32$.  Using the Pythagorean Theorem in $\\\\triangle MKQ$, \\\\[MK^2=KQ^2+QM^2\\\\]or \\\\[68^2=32^2+QM^2\\\\]or \\\\[QM=\\\\sqrt{68^2-32^2}=60\\\\](since $QM>0$).  The area of $\\\\triangle MKQ$ is $\\\\frac{1}{2}(KQ)(QM)=\\\\frac{1}{2}(32)(60)=960$.  The area of rectangle $MQSE$ is $(QM)(QS)=(60)(18)=1080$.  Thus, the area of quadrilateral $KSEM$ is $960+1080=\\\\boxed{2040}$.'}\n",
      "--------------------\n"
     ]
    }
   ],
   "source": [
    "# print first 10 entries for MATH dataset\n",
    "\n",
    "print(math_ds)\n",
    "for split in math_ds:\n",
    "  print(f\"First 10 entries of the {split} split:\")\n",
    "  for i in range(10):\n",
    "    print(math_ds[split][i])\n",
    "  print(\"-\" * 20)"
   ]
  },
  {
   "cell_type": "code",
   "execution_count": 2,
   "metadata": {
    "colab": {
     "base_uri": "https://localhost:8080/"
    },
    "id": "8jQ8vVkQMbkK",
    "outputId": "7868f5f5-585d-4ab7-e36e-99771e4b6e85"
   },
   "outputs": [
    {
     "name": "stdout",
     "output_type": "stream",
     "text": [
      "Looking in indexes: https://download.pytorch.org/whl/cu118\n",
      "Requirement already satisfied: torch in ./.venv/lib/python3.10/site-packages (2.5.1)\n",
      "Collecting torch\n",
      "  Using cached https://download.pytorch.org/whl/cu118/torch-2.5.1%2Bcu118-cp310-cp310-linux_x86_64.whl (838.3 MB)\n",
      "Requirement already satisfied: torchvision in ./.venv/lib/python3.10/site-packages (0.20.1)\n",
      "Collecting torchvision\n",
      "  Using cached https://download.pytorch.org/whl/cu118/torchvision-0.20.1%2Bcu118-cp310-cp310-linux_x86_64.whl (6.5 MB)\n",
      "Collecting torchaudio\n",
      "  Using cached https://download.pytorch.org/whl/cu118/torchaudio-2.5.1%2Bcu118-cp310-cp310-linux_x86_64.whl (3.3 MB)\n",
      "Collecting nvidia-cusparse-cu11==11.7.5.86\n",
      "  Using cached https://download.pytorch.org/whl/cu118/nvidia_cusparse_cu11-11.7.5.86-py3-none-manylinux1_x86_64.whl (204.1 MB)\n",
      "Collecting nvidia-cuda-runtime-cu11==11.8.89\n",
      "  Using cached https://download.pytorch.org/whl/cu118/nvidia_cuda_runtime_cu11-11.8.89-py3-none-manylinux1_x86_64.whl (875 kB)\n",
      "Collecting nvidia-cusolver-cu11==11.4.1.48\n",
      "  Using cached https://download.pytorch.org/whl/cu118/nvidia_cusolver_cu11-11.4.1.48-py3-none-manylinux1_x86_64.whl (128.2 MB)\n",
      "Collecting nvidia-nvtx-cu11==11.8.86\n",
      "  Using cached https://download.pytorch.org/whl/cu118/nvidia_nvtx_cu11-11.8.86-py3-none-manylinux1_x86_64.whl (99 kB)\n",
      "Collecting nvidia-cublas-cu11==11.11.3.6\n",
      "  Using cached https://download.pytorch.org/whl/cu118/nvidia_cublas_cu11-11.11.3.6-py3-none-manylinux1_x86_64.whl (417.9 MB)\n",
      "Collecting nvidia-nccl-cu11==2.21.5\n",
      "  Using cached https://download.pytorch.org/whl/cu118/nvidia_nccl_cu11-2.21.5-py3-none-manylinux2014_x86_64.whl (147.8 MB)\n",
      "Collecting nvidia-cuda-nvrtc-cu11==11.8.89\n",
      "  Using cached https://download.pytorch.org/whl/cu118/nvidia_cuda_nvrtc_cu11-11.8.89-py3-none-manylinux1_x86_64.whl (23.2 MB)\n",
      "Requirement already satisfied: triton==3.1.0 in ./.venv/lib/python3.10/site-packages (from torch) (3.1.0)\n",
      "Collecting nvidia-curand-cu11==10.3.0.86\n",
      "  Using cached https://download.pytorch.org/whl/cu118/nvidia_curand_cu11-10.3.0.86-py3-none-manylinux1_x86_64.whl (58.1 MB)\n",
      "Collecting nvidia-cudnn-cu11==9.1.0.70\n",
      "  Using cached https://download.pytorch.org/whl/cu118/nvidia_cudnn_cu11-9.1.0.70-py3-none-manylinux2014_x86_64.whl (663.9 MB)\n",
      "Requirement already satisfied: fsspec in ./.venv/lib/python3.10/site-packages (from torch) (2024.9.0)\n",
      "Requirement already satisfied: typing-extensions>=4.8.0 in ./.venv/lib/python3.10/site-packages (from torch) (4.12.2)\n",
      "Collecting nvidia-cuda-cupti-cu11==11.8.87\n",
      "  Using cached https://download.pytorch.org/whl/cu118/nvidia_cuda_cupti_cu11-11.8.87-py3-none-manylinux1_x86_64.whl (13.1 MB)\n",
      "Requirement already satisfied: jinja2 in ./.venv/lib/python3.10/site-packages (from torch) (3.1.4)\n",
      "Collecting nvidia-cufft-cu11==10.9.0.58\n",
      "  Using cached https://download.pytorch.org/whl/cu118/nvidia_cufft_cu11-10.9.0.58-py3-none-manylinux1_x86_64.whl (168.4 MB)\n",
      "Requirement already satisfied: sympy==1.13.1 in ./.venv/lib/python3.10/site-packages (from torch) (1.13.1)\n",
      "Requirement already satisfied: networkx in ./.venv/lib/python3.10/site-packages (from torch) (3.4.2)\n",
      "Requirement already satisfied: filelock in ./.venv/lib/python3.10/site-packages (from torch) (3.16.1)\n",
      "Requirement already satisfied: mpmath<1.4,>=1.1.0 in ./.venv/lib/python3.10/site-packages (from sympy==1.13.1->torch) (1.3.0)\n",
      "Requirement already satisfied: numpy in ./.venv/lib/python3.10/site-packages (from torchvision) (2.1.3)\n",
      "Requirement already satisfied: pillow!=8.3.*,>=5.3.0 in ./.venv/lib/python3.10/site-packages (from torchvision) (11.0.0)\n",
      "Requirement already satisfied: MarkupSafe>=2.0 in ./.venv/lib/python3.10/site-packages (from jinja2->torch) (3.0.2)\n",
      "Installing collected packages: nvidia-nvtx-cu11, nvidia-nccl-cu11, nvidia-cusparse-cu11, nvidia-curand-cu11, nvidia-cufft-cu11, nvidia-cuda-runtime-cu11, nvidia-cuda-nvrtc-cu11, nvidia-cuda-cupti-cu11, nvidia-cublas-cu11, nvidia-cusolver-cu11, nvidia-cudnn-cu11, torch, torchvision, torchaudio\n",
      "  Attempting uninstall: torch\n",
      "    Found existing installation: torch 2.5.1\n",
      "    Uninstalling torch-2.5.1:\n",
      "      Successfully uninstalled torch-2.5.1\n",
      "  Attempting uninstall: torchvision\n",
      "    Found existing installation: torchvision 0.20.1\n",
      "    Uninstalling torchvision-0.20.1:\n",
      "      Successfully uninstalled torchvision-0.20.1\n",
      "\u001b[31mERROR: pip's dependency resolver does not currently take into account all the packages that are installed. This behaviour is the source of the following dependency conflicts.\n",
      "torchtext 0.12.0 requires torch==1.11.0, but you have torch 2.5.1+cu118 which is incompatible.\u001b[0m\u001b[31m\n",
      "\u001b[0mSuccessfully installed nvidia-cublas-cu11-11.11.3.6 nvidia-cuda-cupti-cu11-11.8.87 nvidia-cuda-nvrtc-cu11-11.8.89 nvidia-cuda-runtime-cu11-11.8.89 nvidia-cudnn-cu11-9.1.0.70 nvidia-cufft-cu11-10.9.0.58 nvidia-curand-cu11-10.3.0.86 nvidia-cusolver-cu11-11.4.1.48 nvidia-cusparse-cu11-11.7.5.86 nvidia-nccl-cu11-2.21.5 nvidia-nvtx-cu11-11.8.86 torch-2.5.1+cu118 torchaudio-2.5.1+cu118 torchvision-0.20.1+cu118\n",
      "Requirement already satisfied: torchtext==0.12 in ./.venv/lib/python3.10/site-packages (0.12.0)\n",
      "Requirement already satisfied: requests in ./.venv/lib/python3.10/site-packages (from torchtext==0.12) (2.32.3)\n",
      "Requirement already satisfied: numpy in ./.venv/lib/python3.10/site-packages (from torchtext==0.12) (2.1.3)\n",
      "Collecting torch==1.11.0\n",
      "  Using cached torch-1.11.0-cp310-cp310-manylinux1_x86_64.whl (750.6 MB)\n",
      "Requirement already satisfied: tqdm in ./.venv/lib/python3.10/site-packages (from torchtext==0.12) (4.67.1)\n",
      "Requirement already satisfied: typing-extensions in ./.venv/lib/python3.10/site-packages (from torch==1.11.0->torchtext==0.12) (4.12.2)\n",
      "Requirement already satisfied: idna<4,>=2.5 in ./.venv/lib/python3.10/site-packages (from requests->torchtext==0.12) (3.10)\n",
      "Requirement already satisfied: urllib3<3,>=1.21.1 in ./.venv/lib/python3.10/site-packages (from requests->torchtext==0.12) (2.2.3)\n",
      "Requirement already satisfied: charset-normalizer<4,>=2 in ./.venv/lib/python3.10/site-packages (from requests->torchtext==0.12) (3.4.0)\n",
      "Requirement already satisfied: certifi>=2017.4.17 in ./.venv/lib/python3.10/site-packages (from requests->torchtext==0.12) (2024.8.30)\n",
      "Installing collected packages: torch\n",
      "  Attempting uninstall: torch\n",
      "    Found existing installation: torch 2.5.1+cu118\n",
      "    Uninstalling torch-2.5.1+cu118:\n",
      "      Successfully uninstalled torch-2.5.1+cu118\n",
      "\u001b[31mERROR: pip's dependency resolver does not currently take into account all the packages that are installed. This behaviour is the source of the following dependency conflicts.\n",
      "torchvision 0.20.1+cu118 requires torch==2.5.1, but you have torch 1.11.0 which is incompatible.\n",
      "torchaudio 2.5.1+cu118 requires torch==2.5.1, but you have torch 1.11.0 which is incompatible.\u001b[0m\u001b[31m\n",
      "\u001b[0mSuccessfully installed torch-1.11.0\n"
     ]
    }
   ],
   "source": [
    "!pip install --upgrade torch torchvision torchaudio --index-url https://download.pytorch.org/whl/cu118\n",
    "!pip install --upgrade torchtext==0.12"
   ]
  },
  {
   "cell_type": "code",
   "execution_count": null,
   "metadata": {
    "id": "6RRQOfR-GewC"
   },
   "outputs": [],
   "source": [
    "import torch\n",
    "from torch.utils.data import DataLoader\n",
    "from torch.nn.utils.rnn import pad_sequence"
   ]
  },
  {
   "cell_type": "code",
   "execution_count": null,
   "metadata": {
    "id": "8y0Jr_0vGewC"
   },
   "outputs": [],
   "source": [
    "import torch.optim as optim\n",
    "import torch.nn as nn"
   ]
  },
  {
   "cell_type": "code",
   "execution_count": null,
   "metadata": {
    "id": "M42san-mGewC"
   },
   "outputs": [],
   "source": [
    "import torchtext\n",
    "\n",
    "from torchtext.data.utils import get_tokenizer\n",
    "from torchtext.vocab import Vocab, build_vocab_from_iterator"
   ]
  }
 ],
 "metadata": {
  "colab": {
   "provenance": []
  },
  "kernelspec": {
   "display_name": ".venv",
   "language": "python",
   "name": "python3"
  },
  "language_info": {
   "codemirror_mode": {
    "name": "ipython",
    "version": 3
   },
   "file_extension": ".py",
   "mimetype": "text/x-python",
   "name": "python",
   "nbconvert_exporter": "python",
   "pygments_lexer": "ipython3",
   "version": "3.10.12"
  },
  "widgets": {
   "application/vnd.jupyter.widget-state+json": {
    "021011882d364c55a3c0902a56c2492a": {
     "model_module": "@jupyter-widgets/controls",
     "model_module_version": "1.5.0",
     "model_name": "FloatProgressModel",
     "state": {
      "_dom_classes": [],
      "_model_module": "@jupyter-widgets/controls",
      "_model_module_version": "1.5.0",
      "_model_name": "FloatProgressModel",
      "_view_count": null,
      "_view_module": "@jupyter-widgets/controls",
      "_view_module_version": "1.5.0",
      "_view_name": "ProgressView",
      "bar_style": "success",
      "description": "",
      "description_tooltip": null,
      "layout": "IPY_MODEL_58df9f3e26184013989d888aca9f89d6",
      "max": 100,
      "min": 0,
      "orientation": "horizontal",
      "style": "IPY_MODEL_f1af12e38aa340f689b4f7eacb09042d",
      "value": 100
     }
    },
    "03d09855673646cfade51e2e17e544d2": {
     "model_module": "@jupyter-widgets/controls",
     "model_module_version": "1.5.0",
     "model_name": "HTMLModel",
     "state": {
      "_dom_classes": [],
      "_model_module": "@jupyter-widgets/controls",
      "_model_module_version": "1.5.0",
      "_model_name": "HTMLModel",
      "_view_count": null,
      "_view_module": "@jupyter-widgets/controls",
      "_view_module_version": "1.5.0",
      "_view_name": "HTMLView",
      "description": "",
      "description_tooltip": null,
      "layout": "IPY_MODEL_b1d73423e1e945b4b0aa2a0d0956ad5e",
      "placeholder": "​",
      "style": "IPY_MODEL_f5dca3354cf841838efade69f6f74522",
      "value": "Filter: 100%"
     }
    },
    "04fda5b1fb7145759a490db27f46f6e2": {
     "model_module": "@jupyter-widgets/controls",
     "model_module_version": "1.5.0",
     "model_name": "ProgressStyleModel",
     "state": {
      "_model_module": "@jupyter-widgets/controls",
      "_model_module_version": "1.5.0",
      "_model_name": "ProgressStyleModel",
      "_view_count": null,
      "_view_module": "@jupyter-widgets/base",
      "_view_module_version": "1.2.0",
      "_view_name": "StyleView",
      "bar_color": null,
      "description_width": ""
     }
    },
    "1ec4ebf649494a1ea8ae8586a0eafc73": {
     "model_module": "@jupyter-widgets/base",
     "model_module_version": "1.2.0",
     "model_name": "LayoutModel",
     "state": {
      "_model_module": "@jupyter-widgets/base",
      "_model_module_version": "1.2.0",
      "_model_name": "LayoutModel",
      "_view_count": null,
      "_view_module": "@jupyter-widgets/base",
      "_view_module_version": "1.2.0",
      "_view_name": "LayoutView",
      "align_content": null,
      "align_items": null,
      "align_self": null,
      "border": null,
      "bottom": null,
      "display": null,
      "flex": null,
      "flex_flow": null,
      "grid_area": null,
      "grid_auto_columns": null,
      "grid_auto_flow": null,
      "grid_auto_rows": null,
      "grid_column": null,
      "grid_gap": null,
      "grid_row": null,
      "grid_template_areas": null,
      "grid_template_columns": null,
      "grid_template_rows": null,
      "height": null,
      "justify_content": null,
      "justify_items": null,
      "left": null,
      "margin": null,
      "max_height": null,
      "max_width": null,
      "min_height": null,
      "min_width": null,
      "object_fit": null,
      "object_position": null,
      "order": null,
      "overflow": null,
      "overflow_x": null,
      "overflow_y": null,
      "padding": null,
      "right": null,
      "top": null,
      "visibility": null,
      "width": null
     }
    },
    "42dd7078d0654f8da1c2377d1b025357": {
     "model_module": "@jupyter-widgets/base",
     "model_module_version": "1.2.0",
     "model_name": "LayoutModel",
     "state": {
      "_model_module": "@jupyter-widgets/base",
      "_model_module_version": "1.2.0",
      "_model_name": "LayoutModel",
      "_view_count": null,
      "_view_module": "@jupyter-widgets/base",
      "_view_module_version": "1.2.0",
      "_view_name": "LayoutView",
      "align_content": null,
      "align_items": null,
      "align_self": null,
      "border": null,
      "bottom": null,
      "display": null,
      "flex": null,
      "flex_flow": null,
      "grid_area": null,
      "grid_auto_columns": null,
      "grid_auto_flow": null,
      "grid_auto_rows": null,
      "grid_column": null,
      "grid_gap": null,
      "grid_row": null,
      "grid_template_areas": null,
      "grid_template_columns": null,
      "grid_template_rows": null,
      "height": null,
      "justify_content": null,
      "justify_items": null,
      "left": null,
      "margin": null,
      "max_height": null,
      "max_width": null,
      "min_height": null,
      "min_width": null,
      "object_fit": null,
      "object_position": null,
      "order": null,
      "overflow": null,
      "overflow_x": null,
      "overflow_y": null,
      "padding": null,
      "right": null,
      "top": null,
      "visibility": null,
      "width": null
     }
    },
    "4805861d33b14d9ba182fa4203c7eca0": {
     "model_module": "@jupyter-widgets/controls",
     "model_module_version": "1.5.0",
     "model_name": "HTMLModel",
     "state": {
      "_dom_classes": [],
      "_model_module": "@jupyter-widgets/controls",
      "_model_module_version": "1.5.0",
      "_model_name": "HTMLModel",
      "_view_count": null,
      "_view_module": "@jupyter-widgets/controls",
      "_view_module_version": "1.5.0",
      "_view_name": "HTMLView",
      "description": "",
      "description_tooltip": null,
      "layout": "IPY_MODEL_761d420634b64a9980a88d9a812ca98f",
      "placeholder": "​",
      "style": "IPY_MODEL_65fc588569d44576a5bf7c6008f6a68c",
      "value": " 100/100 [00:00&lt;00:00, 1775.40 examples/s]"
     }
    },
    "58df9f3e26184013989d888aca9f89d6": {
     "model_module": "@jupyter-widgets/base",
     "model_module_version": "1.2.0",
     "model_name": "LayoutModel",
     "state": {
      "_model_module": "@jupyter-widgets/base",
      "_model_module_version": "1.2.0",
      "_model_name": "LayoutModel",
      "_view_count": null,
      "_view_module": "@jupyter-widgets/base",
      "_view_module_version": "1.2.0",
      "_view_name": "LayoutView",
      "align_content": null,
      "align_items": null,
      "align_self": null,
      "border": null,
      "bottom": null,
      "display": null,
      "flex": null,
      "flex_flow": null,
      "grid_area": null,
      "grid_auto_columns": null,
      "grid_auto_flow": null,
      "grid_auto_rows": null,
      "grid_column": null,
      "grid_gap": null,
      "grid_row": null,
      "grid_template_areas": null,
      "grid_template_columns": null,
      "grid_template_rows": null,
      "height": null,
      "justify_content": null,
      "justify_items": null,
      "left": null,
      "margin": null,
      "max_height": null,
      "max_width": null,
      "min_height": null,
      "min_width": null,
      "object_fit": null,
      "object_position": null,
      "order": null,
      "overflow": null,
      "overflow_x": null,
      "overflow_y": null,
      "padding": null,
      "right": null,
      "top": null,
      "visibility": null,
      "width": null
     }
    },
    "65fc588569d44576a5bf7c6008f6a68c": {
     "model_module": "@jupyter-widgets/controls",
     "model_module_version": "1.5.0",
     "model_name": "DescriptionStyleModel",
     "state": {
      "_model_module": "@jupyter-widgets/controls",
      "_model_module_version": "1.5.0",
      "_model_name": "DescriptionStyleModel",
      "_view_count": null,
      "_view_module": "@jupyter-widgets/base",
      "_view_module_version": "1.2.0",
      "_view_name": "StyleView",
      "description_width": ""
     }
    },
    "6a16af5df16842bd94cd09dda298b786": {
     "model_module": "@jupyter-widgets/base",
     "model_module_version": "1.2.0",
     "model_name": "LayoutModel",
     "state": {
      "_model_module": "@jupyter-widgets/base",
      "_model_module_version": "1.2.0",
      "_model_name": "LayoutModel",
      "_view_count": null,
      "_view_module": "@jupyter-widgets/base",
      "_view_module_version": "1.2.0",
      "_view_name": "LayoutView",
      "align_content": null,
      "align_items": null,
      "align_self": null,
      "border": null,
      "bottom": null,
      "display": null,
      "flex": null,
      "flex_flow": null,
      "grid_area": null,
      "grid_auto_columns": null,
      "grid_auto_flow": null,
      "grid_auto_rows": null,
      "grid_column": null,
      "grid_gap": null,
      "grid_row": null,
      "grid_template_areas": null,
      "grid_template_columns": null,
      "grid_template_rows": null,
      "height": null,
      "justify_content": null,
      "justify_items": null,
      "left": null,
      "margin": null,
      "max_height": null,
      "max_width": null,
      "min_height": null,
      "min_width": null,
      "object_fit": null,
      "object_position": null,
      "order": null,
      "overflow": null,
      "overflow_x": null,
      "overflow_y": null,
      "padding": null,
      "right": null,
      "top": null,
      "visibility": null,
      "width": null
     }
    },
    "6c10edb9a7e74ec78d0394b12782f7cb": {
     "model_module": "@jupyter-widgets/controls",
     "model_module_version": "1.5.0",
     "model_name": "FloatProgressModel",
     "state": {
      "_dom_classes": [],
      "_model_module": "@jupyter-widgets/controls",
      "_model_module_version": "1.5.0",
      "_model_name": "FloatProgressModel",
      "_view_count": null,
      "_view_module": "@jupyter-widgets/controls",
      "_view_module_version": "1.5.0",
      "_view_name": "ProgressView",
      "bar_style": "success",
      "description": "",
      "description_tooltip": null,
      "layout": "IPY_MODEL_6a16af5df16842bd94cd09dda298b786",
      "max": 850151,
      "min": 0,
      "orientation": "horizontal",
      "style": "IPY_MODEL_04fda5b1fb7145759a490db27f46f6e2",
      "value": 850151
     }
    },
    "718145bc0b2e4bdfa8f3b343a3062d78": {
     "model_module": "@jupyter-widgets/controls",
     "model_module_version": "1.5.0",
     "model_name": "HBoxModel",
     "state": {
      "_dom_classes": [],
      "_model_module": "@jupyter-widgets/controls",
      "_model_module_version": "1.5.0",
      "_model_name": "HBoxModel",
      "_view_count": null,
      "_view_module": "@jupyter-widgets/controls",
      "_view_module_version": "1.5.0",
      "_view_name": "HBoxView",
      "box_style": "",
      "children": [
       "IPY_MODEL_03d09855673646cfade51e2e17e544d2",
       "IPY_MODEL_021011882d364c55a3c0902a56c2492a",
       "IPY_MODEL_4805861d33b14d9ba182fa4203c7eca0"
      ],
      "layout": "IPY_MODEL_42dd7078d0654f8da1c2377d1b025357"
     }
    },
    "761d420634b64a9980a88d9a812ca98f": {
     "model_module": "@jupyter-widgets/base",
     "model_module_version": "1.2.0",
     "model_name": "LayoutModel",
     "state": {
      "_model_module": "@jupyter-widgets/base",
      "_model_module_version": "1.2.0",
      "_model_name": "LayoutModel",
      "_view_count": null,
      "_view_module": "@jupyter-widgets/base",
      "_view_module_version": "1.2.0",
      "_view_name": "LayoutView",
      "align_content": null,
      "align_items": null,
      "align_self": null,
      "border": null,
      "bottom": null,
      "display": null,
      "flex": null,
      "flex_flow": null,
      "grid_area": null,
      "grid_auto_columns": null,
      "grid_auto_flow": null,
      "grid_auto_rows": null,
      "grid_column": null,
      "grid_gap": null,
      "grid_row": null,
      "grid_template_areas": null,
      "grid_template_columns": null,
      "grid_template_rows": null,
      "height": null,
      "justify_content": null,
      "justify_items": null,
      "left": null,
      "margin": null,
      "max_height": null,
      "max_width": null,
      "min_height": null,
      "min_width": null,
      "object_fit": null,
      "object_position": null,
      "order": null,
      "overflow": null,
      "overflow_x": null,
      "overflow_y": null,
      "padding": null,
      "right": null,
      "top": null,
      "visibility": null,
      "width": null
     }
    },
    "84d1b7ade8ce4457849b283034ca32e6": {
     "model_module": "@jupyter-widgets/controls",
     "model_module_version": "1.5.0",
     "model_name": "HTMLModel",
     "state": {
      "_dom_classes": [],
      "_model_module": "@jupyter-widgets/controls",
      "_model_module_version": "1.5.0",
      "_model_name": "HTMLModel",
      "_view_count": null,
      "_view_module": "@jupyter-widgets/controls",
      "_view_module_version": "1.5.0",
      "_view_name": "HTMLView",
      "description": "",
      "description_tooltip": null,
      "layout": "IPY_MODEL_1ec4ebf649494a1ea8ae8586a0eafc73",
      "placeholder": "​",
      "style": "IPY_MODEL_ae736f909b3844cba02edf3e93333d02",
      "value": " 850151/850151 [00:48&lt;00:00, 13072.94 examples/s]"
     }
    },
    "97f1b7f97e42449bb058d69be73881c8": {
     "model_module": "@jupyter-widgets/base",
     "model_module_version": "1.2.0",
     "model_name": "LayoutModel",
     "state": {
      "_model_module": "@jupyter-widgets/base",
      "_model_module_version": "1.2.0",
      "_model_name": "LayoutModel",
      "_view_count": null,
      "_view_module": "@jupyter-widgets/base",
      "_view_module_version": "1.2.0",
      "_view_name": "LayoutView",
      "align_content": null,
      "align_items": null,
      "align_self": null,
      "border": null,
      "bottom": null,
      "display": null,
      "flex": null,
      "flex_flow": null,
      "grid_area": null,
      "grid_auto_columns": null,
      "grid_auto_flow": null,
      "grid_auto_rows": null,
      "grid_column": null,
      "grid_gap": null,
      "grid_row": null,
      "grid_template_areas": null,
      "grid_template_columns": null,
      "grid_template_rows": null,
      "height": null,
      "justify_content": null,
      "justify_items": null,
      "left": null,
      "margin": null,
      "max_height": null,
      "max_width": null,
      "min_height": null,
      "min_width": null,
      "object_fit": null,
      "object_position": null,
      "order": null,
      "overflow": null,
      "overflow_x": null,
      "overflow_y": null,
      "padding": null,
      "right": null,
      "top": null,
      "visibility": null,
      "width": null
     }
    },
    "9ddc4d504e2e47519539d32967aab477": {
     "model_module": "@jupyter-widgets/base",
     "model_module_version": "1.2.0",
     "model_name": "LayoutModel",
     "state": {
      "_model_module": "@jupyter-widgets/base",
      "_model_module_version": "1.2.0",
      "_model_name": "LayoutModel",
      "_view_count": null,
      "_view_module": "@jupyter-widgets/base",
      "_view_module_version": "1.2.0",
      "_view_name": "LayoutView",
      "align_content": null,
      "align_items": null,
      "align_self": null,
      "border": null,
      "bottom": null,
      "display": null,
      "flex": null,
      "flex_flow": null,
      "grid_area": null,
      "grid_auto_columns": null,
      "grid_auto_flow": null,
      "grid_auto_rows": null,
      "grid_column": null,
      "grid_gap": null,
      "grid_row": null,
      "grid_template_areas": null,
      "grid_template_columns": null,
      "grid_template_rows": null,
      "height": null,
      "justify_content": null,
      "justify_items": null,
      "left": null,
      "margin": null,
      "max_height": null,
      "max_width": null,
      "min_height": null,
      "min_width": null,
      "object_fit": null,
      "object_position": null,
      "order": null,
      "overflow": null,
      "overflow_x": null,
      "overflow_y": null,
      "padding": null,
      "right": null,
      "top": null,
      "visibility": null,
      "width": null
     }
    },
    "ae736f909b3844cba02edf3e93333d02": {
     "model_module": "@jupyter-widgets/controls",
     "model_module_version": "1.5.0",
     "model_name": "DescriptionStyleModel",
     "state": {
      "_model_module": "@jupyter-widgets/controls",
      "_model_module_version": "1.5.0",
      "_model_name": "DescriptionStyleModel",
      "_view_count": null,
      "_view_module": "@jupyter-widgets/base",
      "_view_module_version": "1.2.0",
      "_view_name": "StyleView",
      "description_width": ""
     }
    },
    "b1d73423e1e945b4b0aa2a0d0956ad5e": {
     "model_module": "@jupyter-widgets/base",
     "model_module_version": "1.2.0",
     "model_name": "LayoutModel",
     "state": {
      "_model_module": "@jupyter-widgets/base",
      "_model_module_version": "1.2.0",
      "_model_name": "LayoutModel",
      "_view_count": null,
      "_view_module": "@jupyter-widgets/base",
      "_view_module_version": "1.2.0",
      "_view_name": "LayoutView",
      "align_content": null,
      "align_items": null,
      "align_self": null,
      "border": null,
      "bottom": null,
      "display": null,
      "flex": null,
      "flex_flow": null,
      "grid_area": null,
      "grid_auto_columns": null,
      "grid_auto_flow": null,
      "grid_auto_rows": null,
      "grid_column": null,
      "grid_gap": null,
      "grid_row": null,
      "grid_template_areas": null,
      "grid_template_columns": null,
      "grid_template_rows": null,
      "height": null,
      "justify_content": null,
      "justify_items": null,
      "left": null,
      "margin": null,
      "max_height": null,
      "max_width": null,
      "min_height": null,
      "min_width": null,
      "object_fit": null,
      "object_position": null,
      "order": null,
      "overflow": null,
      "overflow_x": null,
      "overflow_y": null,
      "padding": null,
      "right": null,
      "top": null,
      "visibility": null,
      "width": null
     }
    },
    "dd30ef8c97d343e398973b971066d906": {
     "model_module": "@jupyter-widgets/controls",
     "model_module_version": "1.5.0",
     "model_name": "HTMLModel",
     "state": {
      "_dom_classes": [],
      "_model_module": "@jupyter-widgets/controls",
      "_model_module_version": "1.5.0",
      "_model_name": "HTMLModel",
      "_view_count": null,
      "_view_module": "@jupyter-widgets/controls",
      "_view_module_version": "1.5.0",
      "_view_name": "HTMLView",
      "description": "",
      "description_tooltip": null,
      "layout": "IPY_MODEL_97f1b7f97e42449bb058d69be73881c8",
      "placeholder": "​",
      "style": "IPY_MODEL_f20d9ae8550b460f97fef4a9d6d4ecbf",
      "value": "Filter: 100%"
     }
    },
    "f15221bb43dc4bbea72c9af47602363b": {
     "model_module": "@jupyter-widgets/controls",
     "model_module_version": "1.5.0",
     "model_name": "HBoxModel",
     "state": {
      "_dom_classes": [],
      "_model_module": "@jupyter-widgets/controls",
      "_model_module_version": "1.5.0",
      "_model_name": "HBoxModel",
      "_view_count": null,
      "_view_module": "@jupyter-widgets/controls",
      "_view_module_version": "1.5.0",
      "_view_name": "HBoxView",
      "box_style": "",
      "children": [
       "IPY_MODEL_dd30ef8c97d343e398973b971066d906",
       "IPY_MODEL_6c10edb9a7e74ec78d0394b12782f7cb",
       "IPY_MODEL_84d1b7ade8ce4457849b283034ca32e6"
      ],
      "layout": "IPY_MODEL_9ddc4d504e2e47519539d32967aab477"
     }
    },
    "f1af12e38aa340f689b4f7eacb09042d": {
     "model_module": "@jupyter-widgets/controls",
     "model_module_version": "1.5.0",
     "model_name": "ProgressStyleModel",
     "state": {
      "_model_module": "@jupyter-widgets/controls",
      "_model_module_version": "1.5.0",
      "_model_name": "ProgressStyleModel",
      "_view_count": null,
      "_view_module": "@jupyter-widgets/base",
      "_view_module_version": "1.2.0",
      "_view_name": "StyleView",
      "bar_color": null,
      "description_width": ""
     }
    },
    "f20d9ae8550b460f97fef4a9d6d4ecbf": {
     "model_module": "@jupyter-widgets/controls",
     "model_module_version": "1.5.0",
     "model_name": "DescriptionStyleModel",
     "state": {
      "_model_module": "@jupyter-widgets/controls",
      "_model_module_version": "1.5.0",
      "_model_name": "DescriptionStyleModel",
      "_view_count": null,
      "_view_module": "@jupyter-widgets/base",
      "_view_module_version": "1.2.0",
      "_view_name": "StyleView",
      "description_width": ""
     }
    },
    "f5dca3354cf841838efade69f6f74522": {
     "model_module": "@jupyter-widgets/controls",
     "model_module_version": "1.5.0",
     "model_name": "DescriptionStyleModel",
     "state": {
      "_model_module": "@jupyter-widgets/controls",
      "_model_module_version": "1.5.0",
      "_model_name": "DescriptionStyleModel",
      "_view_count": null,
      "_view_module": "@jupyter-widgets/base",
      "_view_module_version": "1.2.0",
      "_view_name": "StyleView",
      "description_width": ""
     }
    }
   }
  }
 },
 "nbformat": 4,
 "nbformat_minor": 0
}
